{
 "cells": [
  {
   "attachments": {},
   "cell_type": "markdown",
   "metadata": {
    "deletable": false,
    "editable": false,
    "nbgrader": {
     "cell_type": "markdown",
     "checksum": "32e72084469253ba7b428e2d0bd46613",
     "grade": false,
     "grade_id": "cell-dcd6c662fba70926",
     "locked": true,
     "schema_version": 3,
     "solution": false,
     "task": false
    }
   },
   "source": [
    "NaiveRNN for Heart Failure Prediction\n",
    "---"
   ]
  },
  {
   "cell_type": "code",
   "execution_count": 1,
   "metadata": {
    "ExecuteTime": {
     "end_time": "2022-02-24T23:45:40.670739Z",
     "start_time": "2022-02-24T23:45:39.523821Z"
    },
    "deletable": false,
    "editable": false,
    "nbgrader": {
     "cell_type": "code",
     "checksum": "6a97fca78b1482f711db4f9d9c40b1b9",
     "grade": false,
     "grade_id": "cell-4fe346254a16fed8",
     "locked": true,
     "schema_version": 3,
     "solution": false,
     "task": false
    }
   },
   "outputs": [
    {
     "name": "stderr",
     "output_type": "stream",
     "text": [
      "c:\\Users\\Allan\\AppData\\Local\\Programs\\Python\\Python310\\lib\\site-packages\\tqdm\\auto.py:22: TqdmWarning: IProgress not found. Please update jupyter and ipywidgets. See https://ipywidgets.readthedocs.io/en/stable/user_install.html\n",
      "  from .autonotebook import tqdm as notebook_tqdm\n"
     ]
    }
   ],
   "source": [
    "import os\n",
    "import sys\n",
    "import pickle\n",
    "import random\n",
    "import numpy as np\n",
    "import torch\n",
    "import torch.nn as nn\n",
    "import torch.nn.functional as F\n",
    "\n",
    "# set seed\n",
    "seed = 24\n",
    "random.seed(seed)\n",
    "np.random.seed(seed)\n",
    "torch.manual_seed(seed)\n",
    "os.environ[\"PYTHONHASHSEED\"] = str(seed)"
   ]
  },
  {
   "cell_type": "markdown",
   "metadata": {
    "deletable": false,
    "editable": false,
    "nbgrader": {
     "cell_type": "markdown",
     "checksum": "212e434fd38be5ca223e82a1e1fddf5b",
     "grade": false,
     "grade_id": "cell-71f2f1fcbf0214c3",
     "locked": true,
     "schema_version": 3,
     "solution": false,
     "task": false
    }
   },
   "source": [
    "---"
   ]
  },
  {
   "cell_type": "code",
   "execution_count": 2,
   "metadata": {
    "ExecuteTime": {
     "end_time": "2022-02-24T23:45:40.679625Z",
     "start_time": "2022-02-24T23:45:40.672480Z"
    },
    "deletable": false,
    "editable": false,
    "nbgrader": {
     "cell_type": "code",
     "checksum": "d0dd1f4063e22be64f2709deffde7a7b",
     "grade": false,
     "grade_id": "cell-0d031c45ba4a787e",
     "locked": true,
     "schema_version": 3,
     "solution": false,
     "task": false
    }
   },
   "outputs": [
    {
     "name": "stdout",
     "output_type": "stream",
     "text": [
      "5447\n",
      "5447\n",
      "4512\n"
     ]
    }
   ],
   "source": [
    "with open('../output/output.hfs', 'rb') as f:\n",
    "\thfs = pickle.load(f)\n",
    "with open('../output/output.seqs', 'rb') as f:\n",
    "\tseqs = pickle.load(f)\n",
    "with open('../output/output.types', 'rb') as f:\n",
    "\ttypes = pickle.load(f)\n",
    "print(len(hfs))\n",
    "print(len(seqs))\n",
    "assert len(hfs) == len(seqs)\n",
    "print(len(types))"
   ]
  },
  {
   "attachments": {},
   "cell_type": "markdown",
   "metadata": {
    "deletable": false,
    "editable": false,
    "nbgrader": {
     "cell_type": "markdown",
     "checksum": "1427cf82d51752cd4e90e7d483141ffe",
     "grade": false,
     "grade_id": "cell-66a0abe057d9ca85",
     "locked": true,
     "schema_version": 3,
     "solution": false,
     "task": false
    }
   },
   "source": [
    "where\n",
    "\n",
    "- `hfs`: contains the heart failure label (0: normal, 1: heart failure) for each patient\n",
    "- `seqs`: contains a list of visit (in ICD9 codes) for each patient\n",
    "- `types`: contains the map from ICD9 codes to ICD-9 labels"
   ]
  },
  {
   "cell_type": "code",
   "execution_count": 3,
   "metadata": {
    "ExecuteTime": {
     "end_time": "2022-02-24T23:45:40.689772Z",
     "start_time": "2022-02-24T23:45:40.687326Z"
    },
    "deletable": false,
    "editable": false,
    "nbgrader": {
     "cell_type": "code",
     "checksum": "06d423d6893adfdc928488e362a86f3a",
     "grade": false,
     "grade_id": "cell-e6d339169f140694",
     "locked": true,
     "schema_version": 3,
     "solution": false,
     "task": false
    }
   },
   "outputs": [
    {
     "name": "stdout",
     "output_type": "stream",
     "text": [
      "Table 1: Basic statistics of MIMIC-III:\n",
      "# of patients: 5447\n",
      "# of visits: 11902\n",
      "Avg. # of visits per patient: 2.19\n",
      "# of unique ICD9 codes:  4512\n",
      "Avg. # of codes per visit: 11.32\n",
      "Max # of codes per visit: 39\n",
      "Number of HF patients: 1280\n",
      "Number of normal patients: 4167\n",
      "Ratio of HF patients: 0.23\n",
      "\n",
      "Patient at index 14:\n",
      "Heart Failure status: 1\n",
      "Visits and diagnosis: 1\n",
      "\t0-th visit id: 0\n",
      "\t0-th visit diagnosis labels: [250, 157, 251, 252, 5, 11, 253, 0, 12]\n",
      "Visits and diagnosis: 1\n",
      "\t1-th visit id: 1\n",
      "\t1-th visit diagnosis labels: [107, 28, 16, 254, 255, 256, 0, 5, 11]\n",
      "Visits and diagnosis: 1\n",
      "\t2-th visit id: 2\n",
      "\t2-th visit diagnosis labels: [257, 41, 258, 62, 259, 260, 261, 139, 16, 180, 59, 262, 263, 264, 265]\n"
     ]
    }
   ],
   "source": [
    "# GRAM paper Table 1 replication:\n",
    "\n",
    "# number of patients\n",
    "print(\"Table 1: Basic statistics of MIMIC-III:\")\n",
    "print(\"# of patients:\", len(hfs))\n",
    "\n",
    "# Number of visits\n",
    "num_visits = 0\n",
    "num_codes = 0\n",
    "max_codes_in_visit = 0\n",
    "for patient_record in seqs:\n",
    "    num_visits += len(patient_record)\n",
    "    for visit in patient_record:\n",
    "        num_codes += len(visit)\n",
    "        if len(visit) > max_codes_in_visit:\n",
    "            max_codes_in_visit = len(visit)\n",
    "print(\"# of visits:\", num_visits)\n",
    "\n",
    "# Avg. # of visits per patient\n",
    "print(\"Avg. # of visits per patient:\", round(num_visits / len(hfs), 2))\n",
    "\n",
    "# Num of unique ICD9 codes\n",
    "print(\"# of unique ICD9 codes: \", len(types))\n",
    "\n",
    "# Avg. # of codes per visit\n",
    "print(\"Avg. # of codes per visit:\", round(num_codes / num_visits, 2))\n",
    "\n",
    "# Max # of codes per visit\n",
    "print(\"Max # of codes per visit:\", max_codes_in_visit)\n",
    "print(\"Number of HF patients:\", sum(hfs))\n",
    "print(\"Number of normal patients:\", len(hfs) - sum(hfs))\n",
    "print(\"Ratio of HF patients: %.2f\" % (sum(hfs) / len(hfs)))\n",
    "\n",
    "# take the 3rd patient as an example\n",
    "print(\"\\nPatient at index 14:\")\n",
    "print(\"Heart Failure status:\", hfs[14])\n",
    "for visit in range(len(seqs[14])):\n",
    "\n",
    "    print(\"Visits and diagnosis:\", hfs[14])\n",
    "    print(f\"\\t{visit}-th visit id:\", visit)\n",
    "    print(f\"\\t{visit}-th visit diagnosis labels:\", seqs[14][visit])"
   ]
  },
  {
   "attachments": {},
   "cell_type": "markdown",
   "metadata": {
    "deletable": false,
    "editable": false,
    "nbgrader": {
     "cell_type": "markdown",
     "checksum": "dfdb69398ff06e79f0ec1d8faeeb4d5c",
     "grade": false,
     "grade_id": "cell-308c526175fdb62e",
     "locked": true,
     "schema_version": 3,
     "solution": false,
     "task": false
    }
   },
   "source": [
    "## 1 Build the dataset\n",
    "\n",
    "### 1.1 CustomDataset\n",
    "\n",
    "First, let us implement a custom dataset using PyTorch class `Dataset`, which will characterize the key features of the dataset we want to generate.\n",
    "\n",
    "We will use the sequences of diagnosis codes `seqs` as input and heart failure `hfs` as output."
   ]
  },
  {
   "cell_type": "code",
   "execution_count": 4,
   "metadata": {
    "ExecuteTime": {
     "end_time": "2022-02-24T23:45:40.694931Z",
     "start_time": "2022-02-24T23:45:40.690998Z"
    },
    "deletable": false
   },
   "outputs": [],
   "source": [
    "from torch.utils.data import Dataset\n",
    "\n",
    "\n",
    "class CustomDataset(Dataset):\n",
    "    \n",
    "    def __init__(self, seqs, hfs):\n",
    "        self.x = seqs\n",
    "        self.y = hfs\n",
    "\n",
    "    def __len__(self):\n",
    "        return len(self.y)\n",
    "    \n",
    "    def __getitem__(self, index):\n",
    "        return self.x[index], self.y[index]\n",
    "        \n",
    "dataset = CustomDataset(seqs, hfs)"
   ]
  },
  {
   "attachments": {},
   "cell_type": "markdown",
   "metadata": {
    "deletable": false,
    "editable": false,
    "nbgrader": {
     "cell_type": "markdown",
     "checksum": "c4ef302b3eea1353a0c52f3110cec061",
     "grade": false,
     "grade_id": "cell-de0d816943d88377",
     "locked": true,
     "schema_version": 3,
     "solution": false,
     "task": false
    }
   },
   "source": [
    "### 1.2 Collate Function"
   ]
  },
  {
   "cell_type": "code",
   "execution_count": 5,
   "metadata": {
    "ExecuteTime": {
     "end_time": "2022-02-24T23:45:40.712859Z",
     "start_time": "2022-02-24T23:45:40.706450Z"
    },
    "deletable": false
   },
   "outputs": [],
   "source": [
    "def collate_fn(data):\n",
    "    sequences, labels = zip(*data)\n",
    "\n",
    "    y = torch.tensor(labels, dtype=torch.float)\n",
    "    \n",
    "    num_patients = len(sequences)\n",
    "    num_visits = [len(patient) for patient in sequences]\n",
    "    num_codes = [len(visit) for patient in sequences for visit in patient]\n",
    "\n",
    "    max_num_visits = max(num_visits)\n",
    "    max_num_codes = max(num_codes)\n",
    "    \n",
    "    x = torch.zeros((num_patients, max_num_visits, max_num_codes), dtype=torch.long)\n",
    "    masks = torch.zeros((num_patients, max_num_visits, max_num_codes), dtype=torch.bool)\n",
    "    for i_patient, patient in enumerate(sequences):\n",
    "        for j_visit, visit in enumerate(patient):\n",
    "            for k, code in enumerate(sequences[i_patient][j_visit]):\n",
    "                x[i_patient][j_visit][k] = code\n",
    "                masks[i_patient][j_visit][k] = 1\n",
    "    \n",
    "    return x, masks, y"
   ]
  },
  {
   "cell_type": "code",
   "execution_count": 7,
   "metadata": {
    "ExecuteTime": {
     "end_time": "2022-02-24T23:45:40.729655Z",
     "start_time": "2022-02-24T23:45:40.726459Z"
    },
    "deletable": false,
    "editable": false,
    "nbgrader": {
     "cell_type": "code",
     "checksum": "cc4a76fda00ecaef5a2e8857a49fb5f2",
     "grade": false,
     "grade_id": "cell-7f2e734b97c94232",
     "locked": true,
     "schema_version": 3,
     "solution": false,
     "task": false
    }
   },
   "outputs": [
    {
     "name": "stdout",
     "output_type": "stream",
     "text": [
      "Length of train dataset: 762\n",
      "Length of val dataset: 4685\n"
     ]
    }
   ],
   "source": [
    "from torch.utils.data.dataset import random_split\n",
    "\n",
    "# get int for 20% of the dataset\n",
    "#split = int(len(dataset)*0.07)\n",
    "split = int(len(dataset)*0.14)\n",
    "#split = int(len(dataset)*0.21)\n",
    "#split = int(len(dataset)*0.28)\n",
    "\n",
    "\n",
    "\"\"\"\n",
    "I modified RNN/rnn.ipynb to calculate AUC for a given train dataset ratio.\n",
    "You can change the train ratio here:\n",
    "split = int(len(dataset)*0.2)\n",
    "We need AUC for 10%,20%,…,100% .\n",
    "\n",
    "I trained the model, using 7%,14%,…,70% of train dataset, with 20% as test dataset and the rest as valid dataset.\n",
    "So\n",
    "int(len(dataset)*0.07)\n",
    "int(len(dataset)*0.14)\n",
    "int(len(dataset)*0.21)\n",
    "…\n",
    "int(len(dataset)*0.70)\n",
    "might be better to compare apple to apple.\n",
    "\"\"\"\n",
    "\n",
    "lengths = [split, len(dataset) - split]\n",
    "train_dataset, val_dataset = random_split(dataset, lengths)\n",
    "\n",
    "print(\"Length of train dataset:\", len(train_dataset))\n",
    "print(\"Length of val dataset:\", len(val_dataset))"
   ]
  },
  {
   "attachments": {},
   "cell_type": "markdown",
   "metadata": {
    "deletable": false,
    "editable": false,
    "nbgrader": {
     "cell_type": "markdown",
     "checksum": "de98a7101e7388850706de0e357437ad",
     "grade": false,
     "grade_id": "cell-c9732f7be72cb6e4",
     "locked": true,
     "schema_version": 3,
     "solution": false,
     "task": false
    }
   },
   "source": [
    "### 1.3 DataLoader"
   ]
  },
  {
   "cell_type": "code",
   "execution_count": 8,
   "metadata": {
    "ExecuteTime": {
     "end_time": "2022-02-24T23:45:40.737205Z",
     "start_time": "2022-02-24T23:45:40.732790Z"
    },
    "deletable": false
   },
   "outputs": [],
   "source": [
    "from torch.utils.data import DataLoader\n",
    "\n",
    "def load_data(train_dataset, val_dataset, collate_fn):\n",
    "    batch_size = 32\n",
    "    train_loader = torch.utils.data.DataLoader(dataset = train_dataset, batch_size=batch_size, shuffle=True, collate_fn=collate_fn)\n",
    "    val_loader = torch.utils.data.DataLoader(dataset = val_dataset, batch_size=batch_size, shuffle=False, collate_fn=collate_fn)\n",
    "    \n",
    "    return train_loader, val_loader\n",
    "\n",
    "train_loader, val_loader = load_data(train_dataset, val_dataset, collate_fn)"
   ]
  },
  {
   "attachments": {},
   "cell_type": "markdown",
   "metadata": {
    "deletable": false,
    "editable": false,
    "nbgrader": {
     "cell_type": "markdown",
     "checksum": "3c7771a13f558c5045dc0c4d2d2b39c8",
     "grade": false,
     "grade_id": "cell-9739d5ae7e1cafc5",
     "locked": true,
     "schema_version": 3,
     "solution": false,
     "task": false
    }
   },
   "source": [
    "## 2 Naive RNN"
   ]
  },
  {
   "attachments": {},
   "cell_type": "markdown",
   "metadata": {
    "deletable": false,
    "editable": false,
    "nbgrader": {
     "cell_type": "markdown",
     "checksum": "2aaf3a348d4abc77607b8b288b56bb8b",
     "grade": false,
     "grade_id": "cell-a9cb7f4d8889ca27",
     "locked": true,
     "schema_version": 3,
     "solution": false,
     "task": false
    }
   },
   "source": [
    "### 2.1 Mask Selection "
   ]
  },
  {
   "cell_type": "code",
   "execution_count": 9,
   "metadata": {
    "ExecuteTime": {
     "end_time": "2022-02-24T23:45:52.623680Z",
     "start_time": "2022-02-24T23:45:52.620272Z"
    },
    "deletable": false
   },
   "outputs": [],
   "source": [
    "def sum_embeddings_with_mask(x, masks):\n",
    "    masked_x = x * masks[..., None]\n",
    "    return torch.sum(masked_x, dim = 2)"
   ]
  },
  {
   "cell_type": "code",
   "execution_count": 11,
   "metadata": {
    "ExecuteTime": {
     "end_time": "2022-02-24T23:47:26.027194Z",
     "start_time": "2022-02-24T23:47:26.023394Z"
    },
    "deletable": false
   },
   "outputs": [],
   "source": [
    "def get_last_visit(hidden_states, masks):\n",
    "    batch_size = hidden_states.shape[0]\n",
    "    masks = torch.sum(masks, dim = 2) > 0\n",
    "    masks = torch.sum(masks, dim = 1) - 1\n",
    "    last_hidden_state = hidden_states[range(batch_size), masks, :]\n",
    "    return last_hidden_state\n"
   ]
  },
  {
   "attachments": {},
   "cell_type": "markdown",
   "metadata": {
    "deletable": false,
    "editable": false,
    "nbgrader": {
     "cell_type": "markdown",
     "checksum": "62bbd9209d97a0d0469cb4f9ff414d45",
     "grade": false,
     "grade_id": "cell-51a88c33b34e6827",
     "locked": true,
     "schema_version": 3,
     "solution": false,
     "task": false
    }
   },
   "source": [
    "### 2.2 Build NaiveRNN"
   ]
  },
  {
   "cell_type": "code",
   "execution_count": 13,
   "metadata": {
    "ExecuteTime": {
     "end_time": "2022-02-21T03:00:31.131757Z",
     "start_time": "2022-02-21T03:00:31.111694Z"
    },
    "deletable": false
   },
   "outputs": [
    {
     "data": {
      "text/plain": [
       "NaiveRNN(\n",
       "  (embedding): Embedding(4512, 128)\n",
       "  (rnn): GRU(128, 128, batch_first=True)\n",
       "  (fc): Linear(in_features=128, out_features=1, bias=True)\n",
       "  (sigmoid): Sigmoid()\n",
       ")"
      ]
     },
     "execution_count": 13,
     "metadata": {},
     "output_type": "execute_result"
    }
   ],
   "source": [
    "class NaiveRNN(nn.Module):\n",
    "    def __init__(self, num_codes):\n",
    "        super().__init__()\n",
    "        embDimSize = 128\n",
    "        self.embedding = nn.Embedding(num_embeddings = num_codes, embedding_dim=embDimSize)\n",
    "        self.rnn = nn.GRU(input_size = embDimSize, hidden_size=128, batch_first = True)\n",
    "        self.fc = nn.Linear(in_features=128, out_features=1)\n",
    "        self.sigmoid = nn.Sigmoid() # GRAM paper uses Softmax for activation function\n",
    "    \n",
    "    def forward(self, x, masks):\n",
    "        batch_size = x.shape[0]\n",
    "        x = self.embedding(x)\n",
    "        x = sum_embeddings_with_mask(x, masks)\n",
    "        output, _ = self.rnn(x)\n",
    "        true_h_n = get_last_visit(output, masks)\n",
    "        logits = self.fc(true_h_n)        \n",
    "        probs = self.sigmoid(logits)  ## GRAM paper uses Softmax for activation function\n",
    "        return probs.view(batch_size)\n",
    "    \n",
    "naive_rnn = NaiveRNN(num_codes = len(types))\n",
    "naive_rnn"
   ]
  },
  {
   "attachments": {},
   "cell_type": "markdown",
   "metadata": {
    "deletable": false,
    "editable": false,
    "nbgrader": {
     "cell_type": "markdown",
     "checksum": "f778ecb7179f34af1319d5e03d7ee599",
     "grade": false,
     "grade_id": "cell-3b34f300dcde3d1b",
     "locked": true,
     "schema_version": 3,
     "solution": false,
     "task": false
    }
   },
   "source": [
    "## 3 Model Training \n",
    "\n",
    "### 3.1 Loss and Optimizer"
   ]
  },
  {
   "cell_type": "code",
   "execution_count": 14,
   "metadata": {
    "ExecuteTime": {
     "end_time": "2022-02-21T03:00:31.155736Z",
     "start_time": "2022-02-21T03:00:31.152490Z"
    },
    "deletable": false
   },
   "outputs": [],
   "source": [
    "criterion = nn.BCELoss()\n",
    "optimizer = torch.optim.Adam(naive_rnn.parameters(), lr = 0.001)"
   ]
  },
  {
   "attachments": {},
   "cell_type": "markdown",
   "metadata": {
    "deletable": false,
    "editable": false,
    "nbgrader": {
     "cell_type": "markdown",
     "checksum": "eab2b782149c6d539961da3b7f25ab09",
     "grade": false,
     "grade_id": "cell-873df7380d762445",
     "locked": true,
     "schema_version": 3,
     "solution": false,
     "task": false
    }
   },
   "source": [
    "### 3.2 Evaluate"
   ]
  },
  {
   "cell_type": "code",
   "execution_count": 15,
   "metadata": {
    "ExecuteTime": {
     "end_time": "2022-02-21T03:00:31.768152Z",
     "start_time": "2022-02-21T03:00:31.163866Z"
    },
    "deletable": false
   },
   "outputs": [],
   "source": [
    "from sklearn.metrics import precision_recall_fscore_support, roc_auc_score\n",
    "\n",
    "def eval_model(model, val_loader):\n",
    "    model.eval()\n",
    "    y_pred = torch.LongTensor()\n",
    "    y_score = torch.Tensor()\n",
    "    y_true = torch.LongTensor()\n",
    "    model.eval()\n",
    "    for x, masks, y in val_loader:\n",
    "        y_hat = model(x, masks)\n",
    "        y_score = torch.cat((y_score,  y_hat.detach().to('cpu')), dim=0)\n",
    "        y_hat = (y_hat > 0.5).int()\n",
    "        y_pred = torch.cat((y_pred,  y_hat.detach().to('cpu')), dim=0)\n",
    "        y_true = torch.cat((y_true, y.detach().to('cpu')), dim=0)\n",
    "\n",
    "    p, r, f, _ = precision_recall_fscore_support(y_true, y_pred, average = 'binary')\n",
    "    roc_auc = roc_auc_score(y_true, y_score)\n",
    "\n",
    "    return p, r, f, roc_auc"
   ]
  },
  {
   "attachments": {},
   "cell_type": "markdown",
   "metadata": {
    "deletable": false,
    "editable": false,
    "nbgrader": {
     "cell_type": "markdown",
     "checksum": "4f2026101cfd198567edf0c5d2fe71b8",
     "grade": false,
     "grade_id": "cell-9b3672b70944a8d9",
     "locked": true,
     "schema_version": 3,
     "solution": false,
     "task": false
    }
   },
   "source": [
    "### 3.3 Training and evlauation "
   ]
  },
  {
   "cell_type": "code",
   "execution_count": 17,
   "metadata": {
    "ExecuteTime": {
     "end_time": "2022-02-21T03:00:31.992553Z",
     "start_time": "2022-02-21T03:00:31.985974Z"
    },
    "deletable": false
   },
   "outputs": [],
   "source": [
    "def train(model, train_loader, val_loader, n_epochs):\n",
    "    for epoch in range(n_epochs):\n",
    "        model.train()\n",
    "        train_loss = 0\n",
    "        for x, masks, y in train_loader:\n",
    "            optimizer.zero_grad()\n",
    "            y_hat = model(x, masks)\n",
    "            loss = criterion(y_hat, y)\n",
    "            loss.backward()\n",
    "            optimizer.step()\n",
    "\n",
    "            train_loss += loss.item()\n",
    "\n",
    "        train_loss = train_loss / len(train_loader)\n",
    "        print('Epoch: {} \\t Training Loss: {:.6f}'.format(epoch+1, train_loss))\n",
    "        p, r, f, roc_auc = eval_model(model, val_loader)\n",
    "        print('Epoch: {} \\t Validation p: {:.2f}, r:{:.2f}, f: {:.2f}, roc_auc: {:.2f}'\n",
    "              .format(epoch+1, p, r, f, roc_auc))"
   ]
  },
  {
   "cell_type": "code",
   "execution_count": 18,
   "metadata": {
    "ExecuteTime": {
     "end_time": "2022-02-21T03:00:36.018615Z",
     "start_time": "2022-02-21T03:00:31.996720Z"
    }
   },
   "outputs": [
    {
     "name": "stdout",
     "output_type": "stream",
     "text": [
      "Epoch: 1 \t Training Loss: 0.591764\n",
      "Epoch: 1 \t Validation p: 0.41, r:0.03, f: 0.06, roc_auc: 0.72\n",
      "Epoch: 2 \t Training Loss: 0.417939\n",
      "Epoch: 2 \t Validation p: 0.63, r:0.20, f: 0.30, roc_auc: 0.79\n",
      "Epoch: 3 \t Training Loss: 0.299142\n",
      "Epoch: 3 \t Validation p: 0.72, r:0.29, f: 0.41, roc_auc: 0.83\n",
      "Epoch: 4 \t Training Loss: 0.193046\n",
      "Epoch: 4 \t Validation p: 0.73, r:0.44, f: 0.55, roc_auc: 0.85\n",
      "Epoch: 5 \t Training Loss: 0.106736\n",
      "Epoch: 5 \t Validation p: 0.71, r:0.54, f: 0.61, roc_auc: 0.86\n",
      "Epoch: 6 \t Training Loss: 0.058417\n",
      "Epoch: 6 \t Validation p: 0.73, r:0.58, f: 0.65, roc_auc: 0.87\n",
      "Epoch: 7 \t Training Loss: 0.033947\n",
      "Epoch: 7 \t Validation p: 0.72, r:0.62, f: 0.67, roc_auc: 0.87\n",
      "Epoch: 8 \t Training Loss: 0.021183\n",
      "Epoch: 8 \t Validation p: 0.71, r:0.63, f: 0.67, roc_auc: 0.87\n",
      "Epoch: 9 \t Training Loss: 0.014437\n",
      "Epoch: 9 \t Validation p: 0.73, r:0.65, f: 0.69, roc_auc: 0.88\n",
      "Epoch: 10 \t Training Loss: 0.010510\n",
      "Epoch: 10 \t Validation p: 0.73, r:0.66, f: 0.69, roc_auc: 0.88\n",
      "Epoch: 11 \t Training Loss: 0.008066\n",
      "Epoch: 11 \t Validation p: 0.71, r:0.67, f: 0.69, roc_auc: 0.88\n",
      "Epoch: 12 \t Training Loss: 0.006393\n",
      "Epoch: 12 \t Validation p: 0.73, r:0.67, f: 0.70, roc_auc: 0.88\n",
      "Epoch: 13 \t Training Loss: 0.005230\n",
      "Epoch: 13 \t Validation p: 0.71, r:0.68, f: 0.70, roc_auc: 0.88\n",
      "Epoch: 14 \t Training Loss: 0.004344\n",
      "Epoch: 14 \t Validation p: 0.72, r:0.68, f: 0.70, roc_auc: 0.88\n",
      "Epoch: 15 \t Training Loss: 0.003693\n",
      "Epoch: 15 \t Validation p: 0.72, r:0.69, f: 0.70, roc_auc: 0.88\n",
      "Epoch: 16 \t Training Loss: 0.003179\n",
      "Epoch: 16 \t Validation p: 0.71, r:0.69, f: 0.70, roc_auc: 0.88\n",
      "Epoch: 17 \t Training Loss: 0.002765\n",
      "Epoch: 17 \t Validation p: 0.71, r:0.69, f: 0.70, roc_auc: 0.88\n",
      "Epoch: 18 \t Training Loss: 0.002424\n",
      "Epoch: 18 \t Validation p: 0.71, r:0.70, f: 0.71, roc_auc: 0.88\n",
      "Epoch: 19 \t Training Loss: 0.002148\n",
      "Epoch: 19 \t Validation p: 0.71, r:0.70, f: 0.71, roc_auc: 0.88\n",
      "Epoch: 20 \t Training Loss: 0.001915\n",
      "Epoch: 20 \t Validation p: 0.71, r:0.70, f: 0.71, roc_auc: 0.88\n",
      "Epoch: 21 \t Training Loss: 0.001730\n",
      "Epoch: 21 \t Validation p: 0.71, r:0.70, f: 0.71, roc_auc: 0.88\n",
      "Epoch: 22 \t Training Loss: 0.001558\n",
      "Epoch: 22 \t Validation p: 0.71, r:0.71, f: 0.71, roc_auc: 0.88\n",
      "Epoch: 23 \t Training Loss: 0.001422\n",
      "Epoch: 23 \t Validation p: 0.71, r:0.71, f: 0.71, roc_auc: 0.88\n",
      "Epoch: 24 \t Training Loss: 0.001297\n",
      "Epoch: 24 \t Validation p: 0.71, r:0.71, f: 0.71, roc_auc: 0.88\n",
      "Epoch: 25 \t Training Loss: 0.001186\n",
      "Epoch: 25 \t Validation p: 0.71, r:0.71, f: 0.71, roc_auc: 0.88\n",
      "Epoch: 26 \t Training Loss: 0.001090\n",
      "Epoch: 26 \t Validation p: 0.71, r:0.71, f: 0.71, roc_auc: 0.88\n",
      "Epoch: 27 \t Training Loss: 0.001008\n",
      "Epoch: 27 \t Validation p: 0.71, r:0.71, f: 0.71, roc_auc: 0.89\n",
      "Epoch: 28 \t Training Loss: 0.000937\n",
      "Epoch: 28 \t Validation p: 0.71, r:0.71, f: 0.71, roc_auc: 0.89\n",
      "Epoch: 29 \t Training Loss: 0.000867\n",
      "Epoch: 29 \t Validation p: 0.71, r:0.71, f: 0.71, roc_auc: 0.89\n",
      "Epoch: 30 \t Training Loss: 0.000811\n",
      "Epoch: 30 \t Validation p: 0.71, r:0.72, f: 0.71, roc_auc: 0.89\n",
      "Epoch: 31 \t Training Loss: 0.000759\n",
      "Epoch: 31 \t Validation p: 0.71, r:0.72, f: 0.71, roc_auc: 0.89\n",
      "Epoch: 32 \t Training Loss: 0.000709\n",
      "Epoch: 32 \t Validation p: 0.71, r:0.72, f: 0.71, roc_auc: 0.89\n",
      "Epoch: 33 \t Training Loss: 0.000668\n",
      "Epoch: 33 \t Validation p: 0.71, r:0.72, f: 0.71, roc_auc: 0.89\n",
      "Epoch: 34 \t Training Loss: 0.000627\n",
      "Epoch: 34 \t Validation p: 0.71, r:0.72, f: 0.71, roc_auc: 0.89\n",
      "Epoch: 35 \t Training Loss: 0.000591\n",
      "Epoch: 35 \t Validation p: 0.71, r:0.72, f: 0.71, roc_auc: 0.89\n",
      "Epoch: 36 \t Training Loss: 0.000558\n",
      "Epoch: 36 \t Validation p: 0.70, r:0.72, f: 0.71, roc_auc: 0.89\n",
      "Epoch: 37 \t Training Loss: 0.000530\n",
      "Epoch: 37 \t Validation p: 0.71, r:0.72, f: 0.71, roc_auc: 0.89\n",
      "Epoch: 38 \t Training Loss: 0.000503\n",
      "Epoch: 38 \t Validation p: 0.70, r:0.72, f: 0.71, roc_auc: 0.89\n",
      "Epoch: 39 \t Training Loss: 0.000475\n",
      "Epoch: 39 \t Validation p: 0.70, r:0.73, f: 0.71, roc_auc: 0.89\n",
      "Epoch: 40 \t Training Loss: 0.000450\n",
      "Epoch: 40 \t Validation p: 0.70, r:0.73, f: 0.71, roc_auc: 0.89\n",
      "Epoch: 41 \t Training Loss: 0.000428\n",
      "Epoch: 41 \t Validation p: 0.70, r:0.73, f: 0.71, roc_auc: 0.89\n",
      "Epoch: 42 \t Training Loss: 0.000406\n",
      "Epoch: 42 \t Validation p: 0.70, r:0.73, f: 0.72, roc_auc: 0.89\n",
      "Epoch: 43 \t Training Loss: 0.000389\n",
      "Epoch: 43 \t Validation p: 0.70, r:0.73, f: 0.72, roc_auc: 0.89\n",
      "Epoch: 44 \t Training Loss: 0.000370\n",
      "Epoch: 44 \t Validation p: 0.70, r:0.73, f: 0.72, roc_auc: 0.89\n",
      "Epoch: 45 \t Training Loss: 0.000355\n",
      "Epoch: 45 \t Validation p: 0.70, r:0.73, f: 0.72, roc_auc: 0.89\n",
      "Epoch: 46 \t Training Loss: 0.000338\n",
      "Epoch: 46 \t Validation p: 0.70, r:0.74, f: 0.72, roc_auc: 0.89\n",
      "Epoch: 47 \t Training Loss: 0.000324\n",
      "Epoch: 47 \t Validation p: 0.70, r:0.74, f: 0.72, roc_auc: 0.89\n",
      "Epoch: 48 \t Training Loss: 0.000311\n",
      "Epoch: 48 \t Validation p: 0.70, r:0.74, f: 0.72, roc_auc: 0.89\n",
      "Epoch: 49 \t Training Loss: 0.000297\n",
      "Epoch: 49 \t Validation p: 0.70, r:0.74, f: 0.72, roc_auc: 0.89\n",
      "Epoch: 50 \t Training Loss: 0.000287\n",
      "Epoch: 50 \t Validation p: 0.70, r:0.74, f: 0.72, roc_auc: 0.89\n",
      "Epoch: 51 \t Training Loss: 0.000274\n",
      "Epoch: 51 \t Validation p: 0.70, r:0.74, f: 0.72, roc_auc: 0.89\n",
      "Epoch: 52 \t Training Loss: 0.000263\n",
      "Epoch: 52 \t Validation p: 0.70, r:0.74, f: 0.72, roc_auc: 0.89\n",
      "Epoch: 53 \t Training Loss: 0.000253\n",
      "Epoch: 53 \t Validation p: 0.70, r:0.74, f: 0.72, roc_auc: 0.89\n",
      "Epoch: 54 \t Training Loss: 0.000244\n",
      "Epoch: 54 \t Validation p: 0.70, r:0.74, f: 0.72, roc_auc: 0.89\n",
      "Epoch: 55 \t Training Loss: 0.000236\n",
      "Epoch: 55 \t Validation p: 0.70, r:0.74, f: 0.72, roc_auc: 0.89\n",
      "Epoch: 56 \t Training Loss: 0.000226\n",
      "Epoch: 56 \t Validation p: 0.70, r:0.74, f: 0.72, roc_auc: 0.89\n",
      "Epoch: 57 \t Training Loss: 0.000217\n",
      "Epoch: 57 \t Validation p: 0.70, r:0.74, f: 0.72, roc_auc: 0.89\n",
      "Epoch: 58 \t Training Loss: 0.000210\n",
      "Epoch: 58 \t Validation p: 0.70, r:0.74, f: 0.72, roc_auc: 0.89\n",
      "Epoch: 59 \t Training Loss: 0.000202\n",
      "Epoch: 59 \t Validation p: 0.70, r:0.74, f: 0.72, roc_auc: 0.89\n",
      "Epoch: 60 \t Training Loss: 0.000196\n",
      "Epoch: 60 \t Validation p: 0.70, r:0.74, f: 0.72, roc_auc: 0.89\n",
      "Epoch: 61 \t Training Loss: 0.000189\n",
      "Epoch: 61 \t Validation p: 0.70, r:0.74, f: 0.72, roc_auc: 0.89\n",
      "Epoch: 62 \t Training Loss: 0.000184\n",
      "Epoch: 62 \t Validation p: 0.70, r:0.74, f: 0.72, roc_auc: 0.89\n",
      "Epoch: 63 \t Training Loss: 0.000176\n",
      "Epoch: 63 \t Validation p: 0.70, r:0.75, f: 0.72, roc_auc: 0.89\n",
      "Epoch: 64 \t Training Loss: 0.000172\n",
      "Epoch: 64 \t Validation p: 0.70, r:0.75, f: 0.72, roc_auc: 0.89\n",
      "Epoch: 65 \t Training Loss: 0.000165\n",
      "Epoch: 65 \t Validation p: 0.70, r:0.75, f: 0.72, roc_auc: 0.89\n",
      "Epoch: 66 \t Training Loss: 0.000160\n",
      "Epoch: 66 \t Validation p: 0.70, r:0.75, f: 0.72, roc_auc: 0.89\n",
      "Epoch: 67 \t Training Loss: 0.000155\n",
      "Epoch: 67 \t Validation p: 0.70, r:0.75, f: 0.72, roc_auc: 0.89\n",
      "Epoch: 68 \t Training Loss: 0.000151\n",
      "Epoch: 68 \t Validation p: 0.70, r:0.75, f: 0.72, roc_auc: 0.89\n",
      "Epoch: 69 \t Training Loss: 0.000146\n",
      "Epoch: 69 \t Validation p: 0.69, r:0.75, f: 0.72, roc_auc: 0.89\n",
      "Epoch: 70 \t Training Loss: 0.000142\n",
      "Epoch: 70 \t Validation p: 0.70, r:0.75, f: 0.72, roc_auc: 0.89\n",
      "Epoch: 71 \t Training Loss: 0.000138\n",
      "Epoch: 71 \t Validation p: 0.69, r:0.75, f: 0.72, roc_auc: 0.89\n",
      "Epoch: 72 \t Training Loss: 0.000133\n",
      "Epoch: 72 \t Validation p: 0.70, r:0.75, f: 0.72, roc_auc: 0.89\n",
      "Epoch: 73 \t Training Loss: 0.000129\n",
      "Epoch: 73 \t Validation p: 0.69, r:0.75, f: 0.72, roc_auc: 0.89\n",
      "Epoch: 74 \t Training Loss: 0.000126\n",
      "Epoch: 74 \t Validation p: 0.70, r:0.75, f: 0.72, roc_auc: 0.89\n",
      "Epoch: 75 \t Training Loss: 0.000122\n",
      "Epoch: 75 \t Validation p: 0.70, r:0.75, f: 0.72, roc_auc: 0.89\n",
      "Epoch: 76 \t Training Loss: 0.000119\n",
      "Epoch: 76 \t Validation p: 0.70, r:0.75, f: 0.72, roc_auc: 0.89\n",
      "Epoch: 77 \t Training Loss: 0.000116\n",
      "Epoch: 77 \t Validation p: 0.69, r:0.75, f: 0.72, roc_auc: 0.89\n",
      "Epoch: 78 \t Training Loss: 0.000112\n",
      "Epoch: 78 \t Validation p: 0.70, r:0.75, f: 0.72, roc_auc: 0.89\n",
      "Epoch: 79 \t Training Loss: 0.000110\n",
      "Epoch: 79 \t Validation p: 0.69, r:0.75, f: 0.72, roc_auc: 0.89\n",
      "Epoch: 80 \t Training Loss: 0.000107\n",
      "Epoch: 80 \t Validation p: 0.70, r:0.75, f: 0.72, roc_auc: 0.89\n",
      "Epoch: 81 \t Training Loss: 0.000104\n",
      "Epoch: 81 \t Validation p: 0.70, r:0.75, f: 0.72, roc_auc: 0.89\n",
      "Epoch: 82 \t Training Loss: 0.000101\n",
      "Epoch: 82 \t Validation p: 0.70, r:0.75, f: 0.72, roc_auc: 0.89\n",
      "Epoch: 83 \t Training Loss: 0.000098\n",
      "Epoch: 83 \t Validation p: 0.69, r:0.75, f: 0.72, roc_auc: 0.89\n",
      "Epoch: 84 \t Training Loss: 0.000096\n",
      "Epoch: 84 \t Validation p: 0.69, r:0.75, f: 0.72, roc_auc: 0.89\n",
      "Epoch: 85 \t Training Loss: 0.000093\n",
      "Epoch: 85 \t Validation p: 0.69, r:0.75, f: 0.72, roc_auc: 0.89\n",
      "Epoch: 86 \t Training Loss: 0.000092\n",
      "Epoch: 86 \t Validation p: 0.69, r:0.75, f: 0.72, roc_auc: 0.89\n",
      "Epoch: 87 \t Training Loss: 0.000089\n",
      "Epoch: 87 \t Validation p: 0.69, r:0.75, f: 0.72, roc_auc: 0.89\n",
      "Epoch: 88 \t Training Loss: 0.000087\n",
      "Epoch: 88 \t Validation p: 0.69, r:0.75, f: 0.72, roc_auc: 0.89\n",
      "Epoch: 89 \t Training Loss: 0.000085\n",
      "Epoch: 89 \t Validation p: 0.69, r:0.75, f: 0.72, roc_auc: 0.89\n",
      "Epoch: 90 \t Training Loss: 0.000082\n",
      "Epoch: 90 \t Validation p: 0.69, r:0.75, f: 0.72, roc_auc: 0.89\n",
      "Epoch: 91 \t Training Loss: 0.000080\n",
      "Epoch: 91 \t Validation p: 0.69, r:0.75, f: 0.72, roc_auc: 0.89\n",
      "Epoch: 92 \t Training Loss: 0.000078\n",
      "Epoch: 92 \t Validation p: 0.69, r:0.75, f: 0.72, roc_auc: 0.89\n",
      "Epoch: 93 \t Training Loss: 0.000077\n",
      "Epoch: 93 \t Validation p: 0.69, r:0.75, f: 0.72, roc_auc: 0.89\n",
      "Epoch: 94 \t Training Loss: 0.000075\n",
      "Epoch: 94 \t Validation p: 0.69, r:0.76, f: 0.72, roc_auc: 0.89\n",
      "Epoch: 95 \t Training Loss: 0.000074\n",
      "Epoch: 95 \t Validation p: 0.69, r:0.76, f: 0.72, roc_auc: 0.89\n",
      "Epoch: 96 \t Training Loss: 0.000072\n",
      "Epoch: 96 \t Validation p: 0.69, r:0.76, f: 0.72, roc_auc: 0.89\n",
      "Epoch: 97 \t Training Loss: 0.000070\n",
      "Epoch: 97 \t Validation p: 0.69, r:0.76, f: 0.72, roc_auc: 0.89\n",
      "Epoch: 98 \t Training Loss: 0.000068\n",
      "Epoch: 98 \t Validation p: 0.69, r:0.76, f: 0.72, roc_auc: 0.89\n",
      "Epoch: 99 \t Training Loss: 0.000066\n",
      "Epoch: 99 \t Validation p: 0.69, r:0.76, f: 0.72, roc_auc: 0.89\n",
      "Epoch: 100 \t Training Loss: 0.000065\n",
      "Epoch: 100 \t Validation p: 0.69, r:0.76, f: 0.72, roc_auc: 0.89\n"
     ]
    }
   ],
   "source": [
    "# number of epochs to train the model\n",
    "n_epochs = 100\n",
    "train(naive_rnn, train_loader, val_loader, n_epochs)"
   ]
  },
  {
   "cell_type": "code",
   "execution_count": 19,
   "metadata": {
    "ExecuteTime": {
     "end_time": "2022-02-21T03:00:36.166788Z",
     "start_time": "2022-02-21T03:00:36.021191Z"
    },
    "deletable": false,
    "editable": false,
    "nbgrader": {
     "cell_type": "code",
     "checksum": "b2ab4e44c6b1125682a2d8ca02030673",
     "grade": true,
     "grade_id": "cell-8fc0a72d1a31aa34",
     "locked": true,
     "points": 10,
     "schema_version": 3,
     "solution": false,
     "task": false
    }
   },
   "outputs": [
    {
     "name": "stdout",
     "output_type": "stream",
     "text": [
      "0.8890676001642535\n"
     ]
    }
   ],
   "source": [
    "p, r, f, roc_auc = eval_model(naive_rnn, val_loader)\n",
    "print(roc_auc)"
   ]
  }
 ],
 "metadata": {
  "illinois_payload": {
   "b64z": "",
   "nb_path": "release/HW3_RNN/HW3_RNN.ipynb"
  },
  "kernelspec": {
   "display_name": "Python 3",
   "language": "python",
   "name": "python3"
  },
  "language_info": {
   "codemirror_mode": {
    "name": "ipython",
    "version": 3
   },
   "file_extension": ".py",
   "mimetype": "text/x-python",
   "name": "python",
   "nbconvert_exporter": "python",
   "pygments_lexer": "ipython3",
   "version": "3.10.8"
  },
  "toc": {
   "base_numbering": 1,
   "nav_menu": {},
   "number_sections": false,
   "sideBar": true,
   "skip_h1_title": true,
   "title_cell": "Table of Contents",
   "title_sidebar": "Contents",
   "toc_cell": false,
   "toc_position": {
    "height": "calc(100% - 180px)",
    "left": "10px",
    "top": "150px",
    "width": "358.390625px"
   },
   "toc_section_display": true,
   "toc_window_display": true
  },
  "vscode": {
   "interpreter": {
    "hash": "26409368dd0a27b73318aa44c512e8dbdf3f9d08ce0ad0b6cb5713a17efe073b"
   }
  }
 },
 "nbformat": 4,
 "nbformat_minor": 2
}
