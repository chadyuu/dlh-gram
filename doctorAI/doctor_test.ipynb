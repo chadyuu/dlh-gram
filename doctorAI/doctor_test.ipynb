{
 "cells": [
  {
   "cell_type": "code",
   "execution_count": 4,
   "id": "55b6a2ae-64c7-4687-b7ef-eacc050fda42",
   "metadata": {},
   "outputs": [
    {
     "name": "stderr",
     "output_type": "stream",
     "text": [
      "WARNING (theano.tensor.blas): Using NumPy C-API based implementation for BLAS functions.\n",
      "ERROR (theano.gof.opt): SeqOptimizer apply <theano.scan_module.scan_opt.PushOutScanOutput object at 0x000001E82F7E03A0>\n",
      "ERROR (theano.gof.opt): Traceback:\n",
      "ERROR (theano.gof.opt): Traceback (most recent call last):\n",
      "  File \"C:\\Users\\Allan\\anaconda3\\envs\\DLH\\lib\\site-packages\\theano\\gof\\opt.py\", line 251, in apply\n",
      "    sub_prof = optimizer.optimize(fgraph)\n",
      "  File \"C:\\Users\\Allan\\anaconda3\\envs\\DLH\\lib\\site-packages\\theano\\gof\\opt.py\", line 97, in optimize\n",
      "    ret = self.apply(fgraph, *args, **kwargs)\n",
      "  File \"C:\\Users\\Allan\\anaconda3\\envs\\DLH\\lib\\site-packages\\theano\\scan_module\\scan_opt.py\", line 685, in apply\n",
      "    node = self.process_node(fgraph, node)\n",
      "  File \"C:\\Users\\Allan\\anaconda3\\envs\\DLH\\lib\\site-packages\\theano\\scan_module\\scan_opt.py\", line 744, in process_node\n",
      "    self.push_out_inner_vars(fgraph, inner_dot_inputs,\n",
      "  File \"C:\\Users\\Allan\\anaconda3\\envs\\DLH\\lib\\site-packages\\theano\\scan_module\\scan_opt.py\", line 852, in push_out_inner_vars\n",
      "    new_scan_node = self.add_nitsot_outputs(fgraph, old_scan_node,\n",
      "  File \"C:\\Users\\Allan\\anaconda3\\envs\\DLH\\lib\\site-packages\\theano\\scan_module\\scan_opt.py\", line 903, in add_nitsot_outputs\n",
      "    fgraph.replace_all_validate_remove(\n",
      "  File \"C:\\Users\\Allan\\anaconda3\\envs\\DLH\\lib\\site-packages\\theano\\gof\\toolbox.py\", line 569, in replace_all_validate_remove\n",
      "    chk = fgraph.replace_all_validate(replacements, reason)\n",
      "  File \"C:\\Users\\Allan\\anaconda3\\envs\\DLH\\lib\\site-packages\\theano\\gof\\toolbox.py\", line 543, in replace_all_validate\n",
      "    fgraph.validate()\n",
      "  File \"C:\\Users\\Allan\\anaconda3\\envs\\DLH\\lib\\site-packages\\theano\\gof\\toolbox.py\", line 434, in validate_\n",
      "    ret = fgraph.execute_callbacks('validate')\n",
      "  File \"C:\\Users\\Allan\\anaconda3\\envs\\DLH\\lib\\site-packages\\theano\\gof\\fg.py\", line 594, in execute_callbacks\n",
      "    fn(self, *args, **kwargs)\n",
      "  File \"C:\\Users\\Allan\\anaconda3\\envs\\DLH\\lib\\site-packages\\theano\\gof\\toolbox.py\", line 600, in validate\n",
      "    raise theano.gof.InconsistencyError(\"Trying to reintroduce a removed node\")\n",
      "theano.gof.fg.InconsistencyError: Trying to reintroduce a removed node\n",
      "\n"
     ]
    },
    {
     "name": "stdout",
     "output_type": "stream",
     "text": [
      "Starting Doctor AI...\n",
      "Done parsing arguments...\n",
      "Starting train_doctorAI...\n",
      "Initializing the parameters ...  using randomly initialized code embedding\n",
      "Building the model ...  not using duration information, fine-tuning code representations\n",
      "Loading data ...  \n"
     ]
    },
    {
     "name": "stderr",
     "output_type": "stream",
     "text": [
      "WARNING (theano.tensor.blas): Using NumPy C-API based implementation for BLAS functions.\n",
      "ERROR (theano.gof.opt): SeqOptimizer apply <theano.scan_module.scan_opt.PushOutScanOutput object at 0x00000286DDE103A0>\n",
      "ERROR (theano.gof.opt): Traceback:\n",
      "ERROR (theano.gof.opt): Traceback (most recent call last):\n",
      "  File \"C:\\Users\\Allan\\anaconda3\\envs\\DLH\\lib\\site-packages\\theano\\gof\\opt.py\", line 251, in apply\n",
      "    sub_prof = optimizer.optimize(fgraph)\n",
      "  File \"C:\\Users\\Allan\\anaconda3\\envs\\DLH\\lib\\site-packages\\theano\\gof\\opt.py\", line 97, in optimize\n",
      "    ret = self.apply(fgraph, *args, **kwargs)\n",
      "  File \"C:\\Users\\Allan\\anaconda3\\envs\\DLH\\lib\\site-packages\\theano\\scan_module\\scan_opt.py\", line 685, in apply\n",
      "    node = self.process_node(fgraph, node)\n",
      "  File \"C:\\Users\\Allan\\anaconda3\\envs\\DLH\\lib\\site-packages\\theano\\scan_module\\scan_opt.py\", line 744, in process_node\n",
      "    self.push_out_inner_vars(fgraph, inner_dot_inputs,\n",
      "  File \"C:\\Users\\Allan\\anaconda3\\envs\\DLH\\lib\\site-packages\\theano\\scan_module\\scan_opt.py\", line 852, in push_out_inner_vars\n",
      "    new_scan_node = self.add_nitsot_outputs(fgraph, old_scan_node,\n",
      "  File \"C:\\Users\\Allan\\anaconda3\\envs\\DLH\\lib\\site-packages\\theano\\scan_module\\scan_opt.py\", line 903, in add_nitsot_outputs\n",
      "    fgraph.replace_all_validate_remove(\n",
      "  File \"C:\\Users\\Allan\\anaconda3\\envs\\DLH\\lib\\site-packages\\theano\\gof\\toolbox.py\", line 569, in replace_all_validate_remove\n",
      "    chk = fgraph.replace_all_validate(replacements, reason)\n",
      "  File \"C:\\Users\\Allan\\anaconda3\\envs\\DLH\\lib\\site-packages\\theano\\gof\\toolbox.py\", line 543, in replace_all_validate\n",
      "    fgraph.validate()\n",
      "  File \"C:\\Users\\Allan\\anaconda3\\envs\\DLH\\lib\\site-packages\\theano\\gof\\toolbox.py\", line 434, in validate_\n",
      "    ret = fgraph.execute_callbacks('validate')\n",
      "  File \"C:\\Users\\Allan\\anaconda3\\envs\\DLH\\lib\\site-packages\\theano\\gof\\fg.py\", line 594, in execute_callbacks\n",
      "    fn(self, *args, **kwargs)\n",
      "  File \"C:\\Users\\Allan\\anaconda3\\envs\\DLH\\lib\\site-packages\\theano\\gof\\toolbox.py\", line 600, in validate\n",
      "    raise theano.gof.InconsistencyError(\"Trying to reintroduce a removed node\")\n",
      "theano.gof.fg.InconsistencyError: Trying to reintroduce a removed node\n",
      "\n",
      "INFO (theano.gof.compilelock): Waiting for existing lock by unknown process (I am process '31936')\n",
      "INFO (theano.gof.compilelock): To manually release the lock, delete C:\\Users\\Allan\\AppData\\Local\\Theano\\compiledir_Windows-10-10.0.22621-SP0-AMD64_Family_23_Model_96_Stepping_1_AuthenticAMD-3.9.0-64\\lock_dir\n",
      "C:\\Users\\Allan\\anaconda3\\envs\\DLH\\lib\\site-packages\\theano\\scan_module\\scan_perform_ext.py:75: UserWarning: The file scan_perform.c is not available. This donot happen normally. You are probably in a strangesetup. This mean Theano can not use the cython code for scan. If youwant to remove this warning, use the Theano flag'cxx=' (set to an empty string) to disable all ccode generation.\n",
      "  warnings.warn(\n",
      "C:\\Users\\Allan\\anaconda3\\envs\\DLH\\lib\\site-packages\\theano\\scan_module\\scan_perform_ext.py:75: UserWarning: The file scan_perform.c is not available. This donot happen normally. You are probably in a strangesetup. This mean Theano can not use the cython code for scan. If youwant to remove this warning, use the Theano flag'cxx=' (set to an empty string) to disable all ccode generation.\n",
      "  warnings.warn(\n",
      "C:\\Users\\Allan\\anaconda3\\envs\\DLH\\lib\\site-packages\\theano\\scan_module\\scan_perform_ext.py:75: UserWarning: The file scan_perform.c is not available. This donot happen normally. You are probably in a strangesetup. This mean Theano can not use the cython code for scan. If youwant to remove this warning, use the Theano flag'cxx=' (set to an empty string) to disable all ccode generation.\n",
      "  warnings.warn(\n",
      "C:\\Users\\Allan\\anaconda3\\envs\\DLH\\lib\\site-packages\\theano\\scan_module\\scan_perform_ext.py:75: UserWarning: The file scan_perform.c is not available. This donot happen normally. You are probably in a strangesetup. This mean Theano can not use the cython code for scan. If youwant to remove this warning, use the Theano flag'cxx=' (set to an empty string) to disable all ccode generation.\n",
      "  warnings.warn(\n",
      "C:\\Users\\Allan\\anaconda3\\envs\\DLH\\lib\\site-packages\\theano\\scan_module\\scan_perform_ext.py:75: UserWarning: The file scan_perform.c is not available. This donot happen normally. You are probably in a strangesetup. This mean Theano can not use the cython code for scan. If youwant to remove this warning, use the Theano flag'cxx=' (set to an empty string) to disable all ccode generation.\n",
      "  warnings.warn(\n",
      "C:\\Users\\Allan\\anaconda3\\envs\\DLH\\lib\\site-packages\\theano\\scan_module\\scan_perform_ext.py:75: UserWarning: The file scan_perform.c is not available. This donot happen normally. You are probably in a strangesetup. This mean Theano can not use the cython code for scan. If youwant to remove this warning, use the Theano flag'cxx=' (set to an empty string) to disable all ccode generation.\n",
      "  warnings.warn(\n",
      "Traceback (most recent call last):\n",
      "  File \"C:\\Users\\Allan\\Desktop\\UIUC courses\\CS598 - Deep Learning Healthcare\\Final Project\\doctorai\\doctorAI.py\", line 508, in <module>\n",
      "    train_doctorAI(\n",
      "  File \"C:\\Users\\Allan\\Desktop\\UIUC courses\\CS598 - Deep Learning Healthcare\\Final Project\\doctorai\\doctorAI.py\", line 419, in train_doctorAI\n",
      "    trainSet, validSet, testSet = load_data(seqFile, labelFile, timeFile)\n",
      "  File \"C:\\Users\\Allan\\Desktop\\UIUC courses\\CS598 - Deep Learning Healthcare\\Final Project\\doctorai\\doctorAI.py\", line 248, in load_data\n",
      "    train_set_x = pickle.load(open(seqFile+'.train', 'rb'))\n",
      "FileNotFoundError: [Errno 2] No such file or directory: 'output/output.seqs.train'\n"
     ]
    }
   ],
   "source": [
    "!python doctorAI.py output/output.seqs 7537 output/output.hfs 7537 result/result"
   ]
  },
  {
   "cell_type": "code",
   "execution_count": 2,
   "id": "73bacf53-7a23-4d0e-b3a0-52c5bf04c6f6",
   "metadata": {},
   "outputs": [
    {
     "name": "stdout",
     "output_type": "stream",
     "text": [
      "Starting Doctor AI..."
     ]
    },
    {
     "name": "stderr",
     "output_type": "stream",
     "text": [
      "WARNING (theano.tensor.blas): Using NumPy C-API based implementation for BLAS functions.\n",
      "ERROR (theano.gof.opt): SeqOptimizer apply <theano.scan_module.scan_opt.PushOutScanOutput object at 0x000001F3737703D0>\n",
      "ERROR (theano.gof.opt): Traceback:\n",
      "ERROR (theano.gof.opt): Traceback (most recent call last):\n",
      "  File \"C:\\Users\\Allan\\anaconda3\\envs\\DLH\\lib\\site-packages\\theano\\gof\\opt.py\", line 251, in apply\n",
      "    sub_prof = optimizer.optimize(fgraph)\n",
      "  File \"C:\\Users\\Allan\\anaconda3\\envs\\DLH\\lib\\site-packages\\theano\\gof\\opt.py\", line 97, in optimize\n",
      "    ret = self.apply(fgraph, *args, **kwargs)\n",
      "  File \"C:\\Users\\Allan\\anaconda3\\envs\\DLH\\lib\\site-packages\\theano\\scan_module\\scan_opt.py\", line 685, in apply\n",
      "    node = self.process_node(fgraph, node)\n",
      "  File \"C:\\Users\\Allan\\anaconda3\\envs\\DLH\\lib\\site-packages\\theano\\scan_module\\scan_opt.py\", line 744, in process_node\n",
      "    self.push_out_inner_vars(fgraph, inner_dot_inputs,\n",
      "  File \"C:\\Users\\Allan\\anaconda3\\envs\\DLH\\lib\\site-packages\\theano\\scan_module\\scan_opt.py\", line 852, in push_out_inner_vars\n",
      "    new_scan_node = self.add_nitsot_outputs(fgraph, old_scan_node,\n",
      "  File \"C:\\Users\\Allan\\anaconda3\\envs\\DLH\\lib\\site-packages\\theano\\scan_module\\scan_opt.py\", line 903, in add_nitsot_outputs\n",
      "    fgraph.replace_all_validate_remove(\n",
      "  File \"C:\\Users\\Allan\\anaconda3\\envs\\DLH\\lib\\site-packages\\theano\\gof\\toolbox.py\", line 569, in replace_all_validate_remove\n",
      "    chk = fgraph.replace_all_validate(replacements, reason)\n",
      "  File \"C:\\Users\\Allan\\anaconda3\\envs\\DLH\\lib\\site-packages\\theano\\gof\\toolbox.py\", line 543, in replace_all_validate\n",
      "    fgraph.validate()\n",
      "  File \"C:\\Users\\Allan\\anaconda3\\envs\\DLH\\lib\\site-packages\\theano\\gof\\toolbox.py\", line 434, in validate_\n",
      "    ret = fgraph.execute_callbacks('validate')\n",
      "  File \"C:\\Users\\Allan\\anaconda3\\envs\\DLH\\lib\\site-packages\\theano\\gof\\fg.py\", line 594, in execute_callbacks\n",
      "    fn(self, *args, **kwargs)\n",
      "  File \"C:\\Users\\Allan\\anaconda3\\envs\\DLH\\lib\\site-packages\\theano\\gof\\toolbox.py\", line 600, in validate\n",
      "    raise theano.gof.InconsistencyError(\"Trying to reintroduce a removed node\")\n",
      "theano.gof.fg.InconsistencyError: Trying to reintroduce a removed node\n",
      "\n",
      "C:\\Users\\Allan\\anaconda3\\envs\\DLH\\lib\\site-packages\\theano\\scan_module\\scan_perform_ext.py:75: UserWarning: The file scan_perform.c is not available. This donot happen normally. You are probably in a strangesetup. This mean Theano can not use the cython code for scan. If youwant to remove this warning, use the Theano flag'cxx=' (set to an empty string) to disable all ccode generation.\n",
      "  warnings.warn(\n",
      "C:\\Users\\Allan\\anaconda3\\envs\\DLH\\lib\\site-packages\\theano\\scan_module\\scan_perform_ext.py:75: UserWarning: The file scan_perform.c is not available. This donot happen normally. You are probably in a strangesetup. This mean Theano can not use the cython code for scan. If youwant to remove this warning, use the Theano flag'cxx=' (set to an empty string) to disable all ccode generation.\n",
      "  warnings.warn(\n",
      "C:\\Users\\Allan\\anaconda3\\envs\\DLH\\lib\\site-packages\\theano\\scan_module\\scan_perform_ext.py:75: UserWarning: The file scan_perform.c is not available. This donot happen normally. You are probably in a strangesetup. This mean Theano can not use the cython code for scan. If youwant to remove this warning, use the Theano flag'cxx=' (set to an empty string) to disable all ccode generation.\n",
      "  warnings.warn(\n",
      "C:\\Users\\Allan\\anaconda3\\envs\\DLH\\lib\\site-packages\\theano\\scan_module\\scan_perform_ext.py:75: UserWarning: The file scan_perform.c is not available. This donot happen normally. You are probably in a strangesetup. This mean Theano can not use the cython code for scan. If youwant to remove this warning, use the Theano flag'cxx=' (set to an empty string) to disable all ccode generation.\n",
      "  warnings.warn(\n",
      "C:\\Users\\Allan\\anaconda3\\envs\\DLH\\lib\\site-packages\\theano\\scan_module\\scan_perform_ext.py:75: UserWarning: The file scan_perform.c is not available. This donot happen normally. You are probably in a strangesetup. This mean Theano can not use the cython code for scan. If youwant to remove this warning, use the Theano flag'cxx=' (set to an empty string) to disable all ccode generation.\n",
      "  warnings.warn(\n",
      "C:\\Users\\Allan\\anaconda3\\envs\\DLH\\lib\\site-packages\\theano\\scan_module\\scan_perform_ext.py:75: UserWarning: The file scan_perform.c is not available. This donot happen normally. You are probably in a strangesetup. This mean Theano can not use the cython code for scan. If youwant to remove this warning, use the Theano flag'cxx=' (set to an empty string) to disable all ccode generation.\n",
      "  warnings.warn(\n",
      "C:\\Users\\Allan\\anaconda3\\envs\\DLH\\lib\\site-packages\\theano\\scan_module\\scan_perform_ext.py:75: UserWarning: The file scan_perform.c is not available. This donot happen normally. You are probably in a strangesetup. This mean Theano can not use the cython code for scan. If youwant to remove this warning, use the Theano flag'cxx=' (set to an empty string) to disable all ccode generation.\n",
      "  warnings.warn(\n",
      "C:\\Users\\Allan\\anaconda3\\envs\\DLH\\lib\\site-packages\\theano\\scan_module\\scan_perform_ext.py:75: UserWarning: The file scan_perform.c is not available. This donot happen normally. You are probably in a strangesetup. This mean Theano can not use the cython code for scan. If youwant to remove this warning, use the Theano flag'cxx=' (set to an empty string) to disable all ccode generation.\n",
      "  warnings.warn(\n",
      "C:\\Users\\Allan\\anaconda3\\envs\\DLH\\lib\\site-packages\\theano\\scan_module\\scan_perform_ext.py:75: UserWarning: The file scan_perform.c is not available. This donot happen normally. You are probably in a strangesetup. This mean Theano can not use the cython code for scan. If youwant to remove this warning, use the Theano flag'cxx=' (set to an empty string) to disable all ccode generation.\n",
      "  warnings.warn(\n",
      "Traceback (most recent call last):\n",
      "  File \"C:\\Users\\Allan\\Desktop\\UIUC courses\\CS598 - Deep Learning Healthcare\\Final Project\\doctorai\\doctorAI.py\", line 509, in <module>\n",
      "    train_doctorAI(\n",
      "  File \"C:\\Users\\Allan\\Desktop\\UIUC courses\\CS598 - Deep Learning Healthcare\\Final Project\\doctorai\\doctorAI.py\", line 448, in train_doctorAI\n",
      "    x, y, mask, lengths = padMatrixWithoutTime(batchX, batchY, options)\n",
      "  File \"C:\\Users\\Allan\\Desktop\\UIUC courses\\CS598 - Deep Learning Healthcare\\Final Project\\doctorai\\doctorAI.py\", line 239, in padMatrixWithoutTime\n",
      "    for yvec, subseq in zip(y[:,idx,:], label[1:]):\n",
      "TypeError: 'int' object is not subscriptable\n"
     ]
    },
    {
     "name": "stdout",
     "output_type": "stream",
     "text": [
      "\n",
      "Done parsing arguments...\n",
      "Starting train_doctorAI...\n",
      "Initializing the parameters ...  using randomly initialized code embedding\n",
      "Building the model ...  not using duration information, fine-tuning code representations\n",
      "Loading data ...  load_data() starting...\n",
      "done\n",
      "Optimization start !!\n"
     ]
    }
   ],
   "source": [
    "!python doctorAI.py output/output.seqs 5447 output/output.hfs 5447 result/result"
   ]
  },
  {
   "cell_type": "code",
   "execution_count": null,
   "id": "3578cd15-3162-4375-9016-563426b46f52",
   "metadata": {},
   "outputs": [],
   "source": []
  }
 ],
 "metadata": {
  "kernelspec": {
   "display_name": "Python 3 (ipykernel)",
   "language": "python",
   "name": "python3"
  },
  "language_info": {
   "codemirror_mode": {
    "name": "ipython",
    "version": 3
   },
   "file_extension": ".py",
   "mimetype": "text/x-python",
   "name": "python",
   "nbconvert_exporter": "python",
   "pygments_lexer": "ipython3",
   "version": "3.9.0"
  }
 },
 "nbformat": 4,
 "nbformat_minor": 5
}
