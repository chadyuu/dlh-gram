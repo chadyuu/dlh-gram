{
 "cells": [
  {
   "attachments": {},
   "cell_type": "markdown",
   "metadata": {},
   "source": [
    "## Summary of the report and findings\n",
    "\n",
    "In this project, we tried to verify a hypothesis that is\n",
    "proposed within the paper ”GRAM: graph-based attention model for healthcare representation learning.”\n",
    "\n",
    "The primary hypothesis we plan to verify is where it says \"Compared to the basic RNN, GRAM achieved...3% improved area under the ROC curve for predicting heart failure using an order of magnitude less training data.\" The data result is shown as below."
   ]
  },
  {
   "attachments": {},
   "cell_type": "markdown",
   "metadata": {},
   "source": [
    "<img src=\"https://github.com/chadyuu/dlh-gram/blob/master/img/table_2c.png?raw=true\" />"
   ]
  },
  {
   "attachments": {},
   "cell_type": "markdown",
   "metadata": {},
   "source": [
    "The paper was not reproducible partly due to not having the baseline model code available to compare GRAM against. The paper's models were built from scratch and used Theano. We built a baseline RNN but now 6+ years later Pytorch has replaced Theano and its improvements likely helped it outperform the paper's custom models. \n",
    "\n",
    "The hypothesis we tested performed for 8 runs as the paper stated, however the key purpose of GRAM is for very sparse data which were in the 2 runs where our RNN results varied wildly. \n",
    "\n",
    "Although the paper's Table 2c was run on Sutter HF data, we expected to see the hypothesis generalize against the MIMIC HF data. We note that the Sutter and MIMIC data may vary in distribution, but since our baseline models mismatched we could not isolate variables to evaluate its influence on the results. \n",
    "\n",
    "Due to these factors we feel the evidence we got from running the code is inconclusive in regard to supporting the claims of the paper, and so we have to conclude the paper was not reproducible."
   ]
  },
  {
   "attachments": {},
   "cell_type": "markdown",
   "metadata": {},
   "source": [
    " Also, we reexamined the hyperparameter tuning described in the additional document by the author."
   ]
  },
  {
   "attachments": {},
   "cell_type": "markdown",
   "metadata": {},
   "source": [
    "<img src=\"https://github.com/chadyuu/dlh-gram/blob/master/img/hyperparameter.png?raw=true\" />"
   ]
  },
  {
   "attachments": {},
   "cell_type": "markdown",
   "metadata": {},
   "source": [
    "We set the default parameters to (200,100,100,0.001,0.6) to reflect what the tuning document shows was best for the heart prediction tasks on the Sutter dataset. Then, we changed each parameter to observe its influence on AUC.\n",
    "\n",
    "We found that (embDimSize=400, HiddenDimSize=400, attentionDimSize=200, L2=0.0001, drouout=0.8) appear to be optimal parameters for heart failure prediction on the MIMIC-III dataset, which we found achieved 0.921 AUC. "
   ]
  },
  {
   "attachments": {},
   "cell_type": "markdown",
   "metadata": {},
   "source": [
    "## Overview of the MIMIC Ⅲ dataset"
   ]
  },
  {
   "attachments": {},
   "cell_type": "markdown",
   "metadata": {},
   "source": [
    "We use three CSV files from the MIMIC Ⅲ dataset.\n",
    "\n",
    "- ADMISSIONS.csv\n",
    "- DIAGNOSES_ICD.csv\n",
    "- ccs_multi_dx_tool_2015.csv"
   ]
  },
  {
   "attachments": {},
   "cell_type": "markdown",
   "metadata": {},
   "source": [
    "### ADMISSIONS.csv"
   ]
  },
  {
   "cell_type": "code",
   "execution_count": 24,
   "metadata": {},
   "outputs": [
    {
     "data": {
      "text/plain": [
       "Index([u'ROW_ID', u'SUBJECT_ID', u'HADM_ID', u'ADMITTIME', u'DISCHTIME',\n",
       "       u'DEATHTIME', u'ADMISSION_TYPE', u'ADMISSION_LOCATION',\n",
       "       u'DISCHARGE_LOCATION', u'INSURANCE', u'LANGUAGE', u'RELIGION',\n",
       "       u'MARITAL_STATUS', u'ETHNICITY', u'EDREGTIME', u'EDOUTTIME',\n",
       "       u'DIAGNOSIS', u'HOSPITAL_EXPIRE_FLAG', u'HAS_CHARTEVENTS_DATA'],\n",
       "      dtype='object')"
      ]
     },
     "execution_count": 24,
     "metadata": {},
     "output_type": "execute_result"
    }
   ],
   "source": [
    "import pandas as pd\n",
    "import matplotlib.pyplot as plt\n",
    "import seaborn as sns\n",
    "import numpy as np\n",
    "\n",
    "# Load the dataset\n",
    "admissions_df = pd.read_csv('ADMISSIONS.csv')\n",
    "admissions_df.keys()"
   ]
  },
  {
   "cell_type": "code",
   "execution_count": 16,
   "metadata": {},
   "outputs": [
    {
     "name": "stdout",
     "output_type": "stream",
     "text": [
      "   ROW_ID  SUBJECT_ID  HADM_ID            ADMITTIME            DISCHTIME  \\\n",
      "0      21          22   165315  2196-04-09 12:26:00  2196-04-10 15:54:00   \n",
      "1      22          23   152223  2153-09-03 07:15:00  2153-09-08 19:10:00   \n",
      "2      23          23   124321  2157-10-18 19:34:00  2157-10-25 14:00:00   \n",
      "3      24          24   161859  2139-06-06 16:14:00  2139-06-09 12:48:00   \n",
      "4      25          25   129635  2160-11-02 02:06:00  2160-11-05 14:55:00   \n",
      "\n",
      "  DEATHTIME ADMISSION_TYPE         ADMISSION_LOCATION  \\\n",
      "0       NaN      EMERGENCY       EMERGENCY ROOM ADMIT   \n",
      "1       NaN       ELECTIVE  PHYS REFERRAL/NORMAL DELI   \n",
      "2       NaN      EMERGENCY  TRANSFER FROM HOSP/EXTRAM   \n",
      "3       NaN      EMERGENCY  TRANSFER FROM HOSP/EXTRAM   \n",
      "4       NaN      EMERGENCY       EMERGENCY ROOM ADMIT   \n",
      "\n",
      "          DISCHARGE_LOCATION INSURANCE LANGUAGE           RELIGION  \\\n",
      "0  DISC-TRAN CANCER/CHLDRN H   Private      NaN       UNOBTAINABLE   \n",
      "1           HOME HEALTH CARE  Medicare      NaN           CATHOLIC   \n",
      "2           HOME HEALTH CARE  Medicare     ENGL           CATHOLIC   \n",
      "3                       HOME   Private      NaN  PROTESTANT QUAKER   \n",
      "4                       HOME   Private      NaN       UNOBTAINABLE   \n",
      "\n",
      "  MARITAL_STATUS ETHNICITY            EDREGTIME            EDOUTTIME  \\\n",
      "0        MARRIED     WHITE  2196-04-09 10:06:00  2196-04-09 13:24:00   \n",
      "1        MARRIED     WHITE                  NaN                  NaN   \n",
      "2        MARRIED     WHITE                  NaN                  NaN   \n",
      "3         SINGLE     WHITE                  NaN                  NaN   \n",
      "4        MARRIED     WHITE  2160-11-02 01:01:00  2160-11-02 04:27:00   \n",
      "\n",
      "                                           DIAGNOSIS  HOSPITAL_EXPIRE_FLAG  \\\n",
      "0                            BENZODIAZEPINE OVERDOSE                     0   \n",
      "1  CORONARY ARTERY DISEASE\\CORONARY ARTERY BYPASS...                     0   \n",
      "2                                         BRAIN MASS                     0   \n",
      "3                     INTERIOR MYOCARDIAL INFARCTION                     0   \n",
      "4                            ACUTE CORONARY SYNDROME                     0   \n",
      "\n",
      "   HAS_CHARTEVENTS_DATA  \n",
      "0                     1  \n",
      "1                     1  \n",
      "2                     1  \n",
      "3                     1  \n",
      "4                     1  \n"
     ]
    }
   ],
   "source": [
    "# Display the first few rows\n",
    "print(admissions_df.head())"
   ]
  },
  {
   "cell_type": "code",
   "execution_count": 31,
   "metadata": {},
   "outputs": [
    {
     "data": {
      "image/png": "[encoded data removed]",
      "text/plain": [
       "<Figure size 720x432 with 1 Axes>"
      ]
     },
     "metadata": {
      "needs_background": "light"
     },
     "output_type": "display_data"
    }
   ],
   "source": [
    "# Plot the distribution of days from admission to death\n",
    "admissions_with_death = admissions_df.where(admissions_df['DEATHTIME'] != np.nan)\n",
    "admissions_with_death['admit_to_death'] = (pd.to_datetime(admissions_with_death['DEATHTIME']) - pd.to_datetime(admissions_with_death['ADMITTIME'])).dt.days\n",
    "plt.figure(figsize=(10, 6))\n",
    "sns.distplot(admissions_with_death['admit_to_death'], kde=False, bins=30)\n",
    "plt.title('Admit to Death Distribution')\n",
    "plt.xlabel('days')\n",
    "plt.ylabel('Count')\n",
    "plt.show()\n"
   ]
  },
  {
   "cell_type": "code",
   "execution_count": 32,
   "metadata": {},
   "outputs": [
    {
     "data": {
      "image/png": "[encoded data removed]",
      "text/plain": [
       "<Figure size 720x432 with 1 Axes>"
      ]
     },
     "metadata": {
      "needs_background": "light"
     },
     "output_type": "display_data"
    }
   ],
   "source": [
    "# Plot the distribution of admission types\n",
    "plt.figure(figsize=(10, 6))\n",
    "sns.countplot(data=admissions_df, x='ADMISSION_TYPE', palette='Set2')\n",
    "plt.title('Admission Types Distribution')\n",
    "plt.xlabel('Admission Type')\n",
    "plt.ylabel('Count')\n",
    "plt.show()"
   ]
  },
  {
   "cell_type": "code",
   "execution_count": 33,
   "metadata": {},
   "outputs": [
    {
     "data": {
      "image/png": "[encoded data removed]",
      "text/plain": [
       "<Figure size 720x432 with 1 Axes>"
      ]
     },
     "metadata": {
      "needs_background": "light"
     },
     "output_type": "display_data"
    }
   ],
   "source": [
    "# Visualize the most common diagnoses\n",
    "diagnoses_df = admissions_df['DIAGNOSIS'].value_counts().reset_index()\n",
    "diagnoses_df.columns = ['DIAGNOSIS', 'COUNT']\n",
    "diagnoses_df = diagnoses_df.head(10)\n",
    "\n",
    "plt.figure(figsize=(10, 6))\n",
    "sns.barplot(data=diagnoses_df, x='COUNT', y='DIAGNOSIS', palette='viridis')\n",
    "plt.title('Top 10 Most Common Diagnoses')\n",
    "plt.xlabel('Count')\n",
    "plt.ylabel('Diagnosis')\n",
    "plt.show()"
   ]
  },
  {
   "attachments": {},
   "cell_type": "markdown",
   "metadata": {},
   "source": [
    "### DIAGNOSES_ICD.csv"
   ]
  },
  {
   "cell_type": "code",
   "execution_count": 34,
   "metadata": {},
   "outputs": [
    {
     "name": "stdout",
     "output_type": "stream",
     "text": [
      "   ROW_ID  SUBJECT_ID  HADM_ID  SEQ_NUM ICD9_CODE\n",
      "0    1297         109   172335      1.0     40301\n",
      "1    1298         109   172335      2.0       486\n",
      "2    1299         109   172335      3.0     58281\n",
      "3    1300         109   172335      4.0      5855\n",
      "4    1301         109   172335      5.0      4254\n"
     ]
    },
    {
     "data": {
      "image/png": "[encoded data removed]",
      "text/plain": [
       "<Figure size 720x432 with 1 Axes>"
      ]
     },
     "metadata": {
      "needs_background": "light"
     },
     "output_type": "display_data"
    }
   ],
   "source": [
    "# Load the dataset\n",
    "diagnoses_icd_df = pd.read_csv('DIAGNOSES_ICD.csv')\n",
    "\n",
    "# Display the first few rows\n",
    "print(diagnoses_icd_df.head())\n",
    "\n",
    "# Plot the most common ICD9 codes\n",
    "icd9_counts = diagnoses_icd_df['ICD9_CODE'].value_counts().reset_index()\n",
    "icd9_counts.columns = ['ICD9_CODE', 'COUNT']\n",
    "icd9_counts = icd9_counts.head(10)\n",
    "\n",
    "plt.figure(figsize=(10, 6))\n",
    "sns.barplot(data=icd9_counts, x='COUNT', y='ICD9_CODE', palette='viridis')\n",
    "plt.title('Top 10 Most Common ICD9 Codes')\n",
    "plt.xlabel('Count')\n",
    "plt.ylabel('ICD9 Code')\n",
    "plt.show()"
   ]
  },
  {
   "attachments": {},
   "cell_type": "markdown",
   "metadata": {},
   "source": [
    "### ccs_multi_dx_tool_2015.csv"
   ]
  },
  {
   "cell_type": "code",
   "execution_count": 61,
   "metadata": {},
   "outputs": [
    {
     "name": "stdout",
     "output_type": "stream",
     "text": [
      "Index([u''ICD-9-CM CODE'', u''CCS LVL 1'', u''CCS LVL 1 LABEL'',\n",
      "       u''CCS LVL 2'', u''CCS LVL 2 LABEL'', u''CCS LVL 3'',\n",
      "       u''CCS LVL 3 LABEL'', u''CCS LVL 4'', u''CCS LVL 4 LABEL''],\n",
      "      dtype='object')\n",
      "  'ICD-9-CM CODE' 'CCS LVL 1'                  'CCS LVL 1 LABEL' 'CCS LVL 2'  \\\n",
      "0         '01000'         '1'  Infectious and parasitic diseases       '1.1'   \n",
      "1         '01001'         '1'  Infectious and parasitic diseases       '1.1'   \n",
      "2         '01002'         '1'  Infectious and parasitic diseases       '1.1'   \n",
      "3         '01003'         '1'  Infectious and parasitic diseases       '1.1'   \n",
      "4         '01004'         '1'  Infectious and parasitic diseases       '1.1'   \n",
      "\n",
      "     'CCS LVL 2 LABEL' 'CCS LVL 3'  'CCS LVL 3 LABEL' 'CCS LVL 4'  \\\n",
      "0  Bacterial infection     '1.1.1'  Tuberculosis [1.]         ' '   \n",
      "1  Bacterial infection     '1.1.1'  Tuberculosis [1.]         ' '   \n",
      "2  Bacterial infection     '1.1.1'  Tuberculosis [1.]         ' '   \n",
      "3  Bacterial infection     '1.1.1'  Tuberculosis [1.]         ' '   \n",
      "4  Bacterial infection     '1.1.1'  Tuberculosis [1.]         ' '   \n",
      "\n",
      "  'CCS LVL 4 LABEL'  \n",
      "0                    \n",
      "1                    \n",
      "2                    \n",
      "3                    \n",
      "4                    \n",
      "                                     CCS LVL 1 LABEL  COUNT\n",
      "0                               Injury and poisoning   2764\n",
      "1  Residual codes; unclassified; all E codes [259...   1589\n",
      "2    Diseases of the nervous system and sense organs   1587\n",
      "3                  Infectious and parasitic diseases   1226\n",
      "4  Complications of pregnancy; childbirth; and th...   1205\n",
      "5                                          Neoplasms   1114\n",
      "6  Diseases of the musculoskeletal system and con...    863\n",
      "7                   Diseases of the digestive system    757\n",
      "8                                     Mental Illness    597\n",
      "9                 Diseases of the circulatory system    553\n"
     ]
    },
    {
     "data": {
      "image/png": "[encoded data removed]",
      "text/plain": [
       "<Figure size 720x432 with 1 Axes>"
      ]
     },
     "metadata": {
      "needs_background": "light"
     },
     "output_type": "display_data"
    }
   ],
   "source": [
    "# Load the dataset\n",
    "ccs_multi_dx_df = pd.read_csv('ccs_multi_dx_tool_2015.csv')\n",
    "\n",
    "print(ccs_multi_dx_df.keys())\n",
    "# Display the first few rows\n",
    "print(ccs_multi_dx_df.head())\n",
    "\n",
    "# Plot the distribution of single-level CCS categories\n",
    "single_level_counts = ccs_multi_dx_df.iloc[:,2].value_counts().reset_index()\n",
    "single_level_counts.columns = ['CCS LVL 1 LABEL', 'COUNT']\n",
    "single_level_counts = single_level_counts.head(10)\n",
    "print(single_level_counts)\n",
    "\n",
    "plt.figure(figsize=(10, 6))\n",
    "sns.barplot(data=single_level_counts, x='COUNT', y='CCS LVL 1 LABEL', palette='viridis')\n",
    "plt.title('Top 10 Most Common Level 1 CCS Labels')\n",
    "plt.xlabel('Count')\n",
    "plt.ylabel('Level 1 CCS Label')\n",
    "plt.show()\n"
   ]
  },
  {
   "attachments": {},
   "cell_type": "markdown",
   "metadata": {},
   "source": [
    "We preprocessed these files by running `$ python process_mimic_hfs.py ADMISSIONS.csv DIAGNOSES_ICD.csv output/output` to generate \n",
    "- `output.hfs`: contains the heart failure label (0: normal, 1: heart failure) for each patient\n",
    "- `output2.seqs`: contains a list of visit (in ICD9 codes) for each patient\n",
    "- `output2.types`: contains the map from ICD9 codes to ICD-9 labels"
   ]
  },
  {
   "cell_type": "code",
   "execution_count": 33,
   "metadata": {},
   "outputs": [
    {
     "name": "stdout",
     "output_type": "stream",
     "text": [
      "('number of patients:', 5447)\n",
      "('number of heart failure patients:', 1280)\n",
      "ratio of heart failure patients:       0.23\n",
      "('number of unique ICD9 codes:', 4512)\n"
     ]
    }
   ],
   "source": [
    "import pickle\n",
    "\n",
    "with open('./output/output.hfs', 'rb') as f:\n",
    "\thfs = pickle.load(f)\n",
    "with open('./output2/output2.seqs', 'rb') as f:\n",
    "\tseqs = pickle.load(f)\n",
    "with open('./output2/output2.types', 'rb') as f:\n",
    "\ttypes = pickle.load(f)\n",
    "\n",
    "print(\"number of patients:\", len(hfs))\n",
    "print(\"number of heart failure patients:\", sum(hfs))\n",
    "print(\"ratio of heart failure patients: %10.2f\" % (float(sum(hfs)) / len(hfs)))\n",
    "print(\"number of unique ICD9 codes:\", len(types))"
   ]
  },
  {
   "attachments": {},
   "cell_type": "markdown",
   "metadata": {},
   "source": [
    "Also, we prepared ancestor information from medical ontologies data by running `python build_trees.py ccs_multi_dx_tool_2015.csv output/output.seqs output/output.types output2/output2` to produce:\n",
    "\n",
    "- output2.level1.pk\n",
    "- output2.level2.pk\n",
    "- output2.level3.pk\n",
    "- output2.level4.pk\n",
    "- output2.level5.pk"
   ]
  },
  {
   "attachments": {},
   "cell_type": "markdown",
   "metadata": {},
   "source": [
    "## Overview of methodology and experiments"
   ]
  },
  {
   "attachments": {},
   "cell_type": "markdown",
   "metadata": {},
   "source": [
    "We implemented the GRAM model for heart faiure prediction in `gram_hf.py`. The following code imported it as `gram_hf` and train the model with 5 epochs."
   ]
  },
  {
   "cell_type": "code",
   "execution_count": 36,
   "metadata": {},
   "outputs": [
    {
     "name": "stdout",
     "output_type": "stream",
     "text": [
      " Building the model ...  done!!\n",
      "Constructing the optimizer ...  done!!\n",
      "Loading data ...  done!!\n",
      "Optimization start !!\n",
      "Epoch:0, Duration:12.177816, Train_Cost:0.647768, Valid_Cost:0.536243, Test_Cost:0.493310\n",
      "Epoch:1, Duration:12.339224, Train_Cost:0.570731, Valid_Cost:0.518706, Test_Cost:0.486453\n",
      "Epoch:2, Duration:12.307639, Train_Cost:0.534188, Valid_Cost:0.498042, Test_Cost:0.445167\n",
      "Epoch:3, Duration:12.324813, Train_Cost:0.511874, Valid_Cost:0.485034, Test_Cost:0.437686\n",
      "Epoch:4, Duration:16.401006, Train_Cost:0.491118, Valid_Cost:0.465700, Test_Cost:0.432930\n",
      "Best Epoch:4, Avg_Duration:13.110100, Train_Cost:0.491118, Valid_Cost:0.465700, Test_Cost:0.432930\n"
     ]
    }
   ],
   "source": [
    "import numpy as np\n",
    "import gram_hf\n",
    "\n",
    "if __name__ == '__main__':\n",
    "\tseq_file = 'output2/output2.seqs'\n",
    "\ttree_file = 'output2/output2'\n",
    "\tlabel_file = 'output/output.hfs'\n",
    "\tout_file = 'ipynb/gram_hf'\n",
    "\tinputDimSize = gram_hf.calculate_dimSize(seq_file)\n",
    "\tnumClass = 1 # predicte a binary value (heart failure)\n",
    "\tnumAncestors = gram_hf.get_rootCode(tree_file+'.level2.pk') - inputDimSize + 1\n",
    "\n",
    "\tgram_hf.train_GRAM(\n",
    "\t\tseqFile=seq_file,\n",
    "\t\tinputDimSize=inputDimSize,\n",
    "\t\ttreeFile=tree_file,\n",
    "\t\tnumAncestors=numAncestors,\n",
    "\t\tlabelFile=label_file,\n",
    "\t\tnumClass=numClass,\n",
    "\t\toutFile=out_file,\n",
    "\t\tembFile='',\n",
    "\t\tembDimSize=128,\n",
    "\t\thiddenDimSize=128,\n",
    "\t\tattentionDimSize=128,\n",
    "\t\tbatchSize=100,\n",
    "\t\tmax_epochs=5,\n",
    "\t\tL2=0.001,\n",
    "\t\tdropoutRate=0.5,\n",
    "\t\tlogEps=1e-8,\n",
    "\t\ttrain_ratio=0.7\n",
    "\t)"
   ]
  },
  {
   "attachments": {},
   "cell_type": "markdown",
   "metadata": {},
   "source": [
    "We also implemented the GRAM model without the attention mechanism in `gram_hf_no_attention.py`. The following code imported it as `gram_hf_no_attention` and train the model with 5 epochs."
   ]
  },
  {
   "cell_type": "code",
   "execution_count": 39,
   "metadata": {},
   "outputs": [
    {
     "name": "stdout",
     "output_type": "stream",
     "text": [
      "Building the model ...  done!!\n",
      "Constructing the optimizer ...  done!!\n",
      "Loading data ...  done!!\n",
      "Optimization start !!\n",
      "Epoch:0, Duration:2.722397, Train_Cost:0.516371, Valid_Cost:0.576333, Test_Cost:0.501965\n",
      "Epoch:1, Duration:2.729736, Train_Cost:0.479058, Valid_Cost:0.493964, Test_Cost:0.458061\n",
      "Epoch:2, Duration:2.700339, Train_Cost:0.441143, Valid_Cost:0.483906, Test_Cost:0.435884\n",
      "Epoch:3, Duration:2.674544, Train_Cost:0.399495, Valid_Cost:0.518985, Test_Cost:0.508718\n",
      "Epoch:4, Duration:2.727133, Train_Cost:0.379071, Valid_Cost:0.391843, Test_Cost:0.395522\n",
      "Best Epoch:4, Avg_Duration:2.710830, Train_Cost:0.379071, Valid_Cost:0.391843, Test_Cost:0.395522\n"
     ]
    }
   ],
   "source": [
    "import gram_hf_no_attention as gram_hf\n",
    "\n",
    "if __name__ == '__main__':\n",
    "\tseq_file = 'output2/output2.seqs'\n",
    "\ttree_file = 'output2/output2'\n",
    "\tlabel_file = 'output/output.hfs'\n",
    "\tout_file = 'ipynb/gram_hf_no_attention' # for no attention\n",
    "\tinputDimSize = gram_hf.calculate_dimSize(seq_file)\n",
    "\tnumClass = 1 # predicte a binary value (heart failure)\n",
    "\tnumAncestors = gram_hf.get_rootCode(tree_file+'.level2.pk') - inputDimSize + 1\n",
    "\n",
    "\tgram_hf.train_GRAM(\n",
    "\t\tseqFile=seq_file,\n",
    "\t\tinputDimSize=inputDimSize,\n",
    "\t\ttreeFile=tree_file,\n",
    "\t\tnumAncestors=numAncestors,\n",
    "\t\tlabelFile=label_file,\n",
    "\t\tnumClass=numClass,\n",
    "\t\toutFile=out_file,\n",
    "\t\tembFile='',\n",
    "\t\tembDimSize=128,\n",
    "\t\thiddenDimSize=128,\n",
    "\t\tattentionDimSize=128,\n",
    "\t\tbatchSize=100,\n",
    "\t\tmax_epochs=5,\n",
    "\t\tL2=0.001,\n",
    "\t\tdropoutRate=0.5,\n",
    "\t\tlogEps=1e-8,\n",
    "\t\ttrain_ratio=0.7\n",
    "\t)"
   ]
  },
  {
   "attachments": {},
   "cell_type": "markdown",
   "metadata": {},
   "source": [
    "We calculated AUC for each model as follows."
   ]
  },
  {
   "cell_type": "code",
   "execution_count": 47,
   "metadata": {},
   "outputs": [
    {
     "name": "stdout",
     "output_type": "stream",
     "text": [
      "('GRAM with attention AUC:', 0.8514355428251791)\n"
     ]
    }
   ],
   "source": [
    "from sklearn.metrics import roc_auc_score\n",
    "import pickle\n",
    "\n",
    "with open('./ipynb/gram_hf_0.7.test_set', 'rb') as f:\n",
    "    test_data = pickle.load(f)\n",
    "with open('./ipynb/gram_hf_0.7_4.test_probs', 'rb') as f:\n",
    "    y_pred_probs = pickle.load(f)\n",
    "\n",
    "y_true_labels = test_data[1]\n",
    "auc = roc_auc_score(y_true_labels, y_pred_probs)\n",
    "\n",
    "print(\"GRAM with attention AUC:\", auc)"
   ]
  },
  {
   "cell_type": "code",
   "execution_count": 70,
   "metadata": {},
   "outputs": [
    {
     "name": "stdout",
     "output_type": "stream",
     "text": [
      "('GRAM without attention AUC:', 0.8606023782657755)\n"
     ]
    }
   ],
   "source": [
    "from sklearn.metrics import roc_auc_score\n",
    "import pickle\n",
    "\n",
    "with open('./ipynb/gram_hf_no_attention_0.7.test_set', 'rb') as f:\n",
    "    test_data = pickle.load(f)\n",
    "with open('./ipynb/gram_hf_no_attention_0.7_4.test_probs', 'rb') as f:\n",
    "    y_pred_probs = pickle.load(f)\n",
    "\n",
    "y_true_labels = test_data[1]\n",
    "auc = roc_auc_score(y_true_labels, y_pred_probs)\n",
    "\n",
    "print(\"GRAM without attention AUC:\", auc)"
   ]
  },
  {
   "attachments": {},
   "cell_type": "markdown",
   "metadata": {},
   "source": [
    "Also, we examined the hyperparameter setting."
   ]
  },
  {
   "cell_type": "code",
   "execution_count": 63,
   "metadata": {},
   "outputs": [
    {
     "name": "stdout",
     "output_type": "stream",
     "text": [
      "Building the model ... "
     ]
    },
    {
     "name": "stderr",
     "output_type": "stream",
     "text": [
      "/Users/yutaro/Dropbox/001.UIUC/002.DLH/gram/gram_hf.py:318: UserWarning: theano.function was asked to create a function computing outputs given certain inputs, but the provided input variable at index 2 is not part of the computational graph needed to compute the outputs: mask.\n",
      "To make this warning into an error, you can pass the parameter on_unused_input='raise' to theano.function. To disable it completely, use on_unused_input='ignore'.\n",
      "  get_cost = theano.function(inputs=[x, y, mask, lengths], outputs=cost_noreg, name='get_cost', on_unused_input='warn')\n",
      "/Users/yutaro/Dropbox/001.UIUC/002.DLH/gram/gram_hf.py:318: UserWarning: theano.function was asked to create a function computing outputs given certain inputs, but the provided input variable at index 3 is not part of the computational graph needed to compute the outputs: lengths.\n",
      "To make this warning into an error, you can pass the parameter on_unused_input='raise' to theano.function. To disable it completely, use on_unused_input='ignore'.\n",
      "  get_cost = theano.function(inputs=[x, y, mask, lengths], outputs=cost_noreg, name='get_cost', on_unused_input='warn')\n",
      "/Users/yutaro/Dropbox/001.UIUC/002.DLH/gram/gram_hf.py:319: UserWarning: theano.function was asked to create a function computing outputs given certain inputs, but the provided input variable at index 1 is not part of the computational graph needed to compute the outputs: y.\n",
      "To make this warning into an error, you can pass the parameter on_unused_input='raise' to theano.function. To disable it completely, use on_unused_input='ignore'.\n",
      "  get_probs = theano.function(inputs=[x, y, mask, lengths], outputs=y_hat, name='get_probs', on_unused_input='warn')\n",
      "/Users/yutaro/Dropbox/001.UIUC/002.DLH/gram/gram_hf.py:319: UserWarning: theano.function was asked to create a function computing outputs given certain inputs, but the provided input variable at index 2 is not part of the computational graph needed to compute the outputs: mask.\n",
      "To make this warning into an error, you can pass the parameter on_unused_input='raise' to theano.function. To disable it completely, use on_unused_input='ignore'.\n",
      "  get_probs = theano.function(inputs=[x, y, mask, lengths], outputs=y_hat, name='get_probs', on_unused_input='warn')\n",
      "/Users/yutaro/Dropbox/001.UIUC/002.DLH/gram/gram_hf.py:319: UserWarning: theano.function was asked to create a function computing outputs given certain inputs, but the provided input variable at index 3 is not part of the computational graph needed to compute the outputs: lengths.\n",
      "To make this warning into an error, you can pass the parameter on_unused_input='raise' to theano.function. To disable it completely, use on_unused_input='ignore'.\n",
      "  get_probs = theano.function(inputs=[x, y, mask, lengths], outputs=y_hat, name='get_probs', on_unused_input='warn')\n"
     ]
    },
    {
     "name": "stdout",
     "output_type": "stream",
     "text": [
      " done!!\n",
      "Constructing the optimizer ... "
     ]
    },
    {
     "name": "stderr",
     "output_type": "stream",
     "text": [
      "/Users/yutaro/Dropbox/001.UIUC/002.DLH/gram/gram_hf.py:212: UserWarning: theano.function was asked to create a function computing outputs given certain inputs, but the provided input variable at index 2 is not part of the computational graph needed to compute the outputs: mask.\n",
      "To make this warning into an error, you can pass the parameter on_unused_input='raise' to theano.function. To disable it completely, use on_unused_input='ignore'.\n",
      "  f_grad_shared = theano.function([x, y, mask, lengths], cost, updates=zgup + rg2up, name='adadelta_f_grad_shared', on_unused_input='warn')\n",
      "/Users/yutaro/Dropbox/001.UIUC/002.DLH/gram/gram_hf.py:212: UserWarning: theano.function was asked to create a function computing outputs given certain inputs, but the provided input variable at index 3 is not part of the computational graph needed to compute the outputs: lengths.\n",
      "To make this warning into an error, you can pass the parameter on_unused_input='raise' to theano.function. To disable it completely, use on_unused_input='ignore'.\n",
      "  f_grad_shared = theano.function([x, y, mask, lengths], cost, updates=zgup + rg2up, name='adadelta_f_grad_shared', on_unused_input='warn')\n"
     ]
    },
    {
     "name": "stdout",
     "output_type": "stream",
     "text": [
      " done!!\n",
      "Loading data ...  done!!\n",
      "Optimization start !!\n",
      "Epoch:0, Duration:15.518463, Train_Cost:0.663092, Valid_Cost:0.543491, Test_Cost:0.487005\n",
      "Epoch:1, Duration:15.450127, Train_Cost:0.589917, Valid_Cost:0.516489, Test_Cost:0.467639\n",
      "Epoch:2, Duration:24.573496, Train_Cost:0.551992, Valid_Cost:0.510130, Test_Cost:0.481835\n",
      "Epoch:3, Duration:16.919093, Train_Cost:0.526536, Valid_Cost:0.483689, Test_Cost:0.443998\n",
      "Epoch:4, Duration:19.470055, Train_Cost:0.507182, Valid_Cost:0.475735, Test_Cost:0.434812\n",
      "Epoch:5, Duration:16.917265, Train_Cost:0.468032, Valid_Cost:0.485129, Test_Cost:0.439006\n",
      "Epoch:6, Duration:16.213000, Train_Cost:0.469495, Valid_Cost:0.444409, Test_Cost:0.421364\n",
      "Epoch:7, Duration:16.980874, Train_Cost:0.441806, Valid_Cost:0.415169, Test_Cost:0.405869\n",
      "Epoch:8, Duration:15.653448, Train_Cost:0.403117, Valid_Cost:0.375289, Test_Cost:0.390198\n",
      "Epoch:9, Duration:14.615877, Train_Cost:0.347842, Valid_Cost:0.357074, Test_Cost:0.392752\n",
      "Best Epoch:9, Avg_Duration:17.231170, Train_Cost:0.347842, Valid_Cost:0.357074, Test_Cost:0.392752\n",
      "Building the model ...  done!!\n",
      "Constructing the optimizer ...  done!!\n",
      "Loading data ...  done!!\n",
      "Optimization start !!\n",
      "Epoch:0, Duration:8.470190, Train_Cost:0.606118, Valid_Cost:0.539216, Test_Cost:0.500095\n",
      "Epoch:1, Duration:9.125510, Train_Cost:0.524634, Valid_Cost:0.527330, Test_Cost:0.467372\n",
      "Epoch:2, Duration:8.700385, Train_Cost:0.502580, Valid_Cost:0.513288, Test_Cost:0.454583\n",
      "Epoch:3, Duration:8.382637, Train_Cost:0.489106, Valid_Cost:0.497169, Test_Cost:0.468816\n",
      "Epoch:4, Duration:9.050639, Train_Cost:0.474466, Valid_Cost:0.478043, Test_Cost:0.433809\n",
      "Epoch:5, Duration:9.175378, Train_Cost:0.456905, Valid_Cost:0.462420, Test_Cost:0.438420\n",
      "Epoch:6, Duration:8.945558, Train_Cost:0.438076, Valid_Cost:0.446661, Test_Cost:0.423540\n",
      "Epoch:7, Duration:9.700283, Train_Cost:0.413662, Valid_Cost:0.410337, Test_Cost:0.410779\n",
      "Epoch:8, Duration:9.808105, Train_Cost:0.372823, Valid_Cost:0.377056, Test_Cost:0.397340\n",
      "Epoch:9, Duration:10.361592, Train_Cost:0.333024, Valid_Cost:0.354058, Test_Cost:0.392280\n",
      "Best Epoch:9, Avg_Duration:9.172028, Train_Cost:0.333024, Valid_Cost:0.354058, Test_Cost:0.392280\n",
      "Building the model ...  done!!\n",
      "Constructing the optimizer ...  done!!\n",
      "Loading data ...  done!!\n",
      "Optimization start !!\n",
      "Epoch:0, Duration:25.433760, Train_Cost:0.727431, Valid_Cost:0.536755, Test_Cost:0.488202\n",
      "Epoch:1, Duration:22.492688, Train_Cost:0.635195, Valid_Cost:0.517130, Test_Cost:0.473177\n",
      "Epoch:2, Duration:22.619145, Train_Cost:0.592836, Valid_Cost:0.497801, Test_Cost:0.451681\n",
      "Epoch:3, Duration:24.010625, Train_Cost:0.560258, Valid_Cost:0.492088, Test_Cost:0.441968\n",
      "Epoch:4, Duration:24.512155, Train_Cost:0.527877, Valid_Cost:0.462884, Test_Cost:0.428409\n",
      "Epoch:5, Duration:25.080280, Train_Cost:0.501651, Valid_Cost:0.438453, Test_Cost:0.415763\n",
      "Epoch:6, Duration:24.501161, Train_Cost:0.465493, Valid_Cost:0.396959, Test_Cost:0.396430\n",
      "Epoch:7, Duration:23.311861, Train_Cost:0.403392, Valid_Cost:0.349652, Test_Cost:0.369426\n",
      "Epoch:8, Duration:25.041657, Train_Cost:0.347258, Valid_Cost:0.300971, Test_Cost:0.330442\n",
      "Epoch:9, Duration:22.218119, Train_Cost:0.310638, Valid_Cost:0.273136, Test_Cost:0.300268\n",
      "Best Epoch:9, Avg_Duration:23.922145, Train_Cost:0.310638, Valid_Cost:0.273136, Test_Cost:0.300268\n",
      "Building the model ...  done!!\n",
      "Constructing the optimizer ...  done!!\n",
      "Loading data ...  done!!\n",
      "Optimization start !!\n",
      "Epoch:0, Duration:30.174745, Train_Cost:0.780644, Valid_Cost:0.545888, Test_Cost:0.487521\n",
      "Epoch:1, Duration:30.157186, Train_Cost:0.696470, Valid_Cost:0.522682, Test_Cost:0.470709\n",
      "Epoch:2, Duration:27.656757, Train_Cost:0.638927, Valid_Cost:0.500442, Test_Cost:0.453900\n",
      "Epoch:3, Duration:27.767991, Train_Cost:0.601365, Valid_Cost:0.481417, Test_Cost:0.436636\n",
      "Epoch:4, Duration:29.412020, Train_Cost:0.563227, Valid_Cost:0.481481, Test_Cost:0.456783\n",
      "Epoch:5, Duration:28.785725, Train_Cost:0.538100, Valid_Cost:0.466203, Test_Cost:0.427710\n",
      "Epoch:6, Duration:32.255166, Train_Cost:0.505337, Valid_Cost:0.429584, Test_Cost:0.409308\n",
      "Epoch:7, Duration:32.420609, Train_Cost:0.456484, Valid_Cost:0.376816, Test_Cost:0.381472\n",
      "Epoch:8, Duration:30.356821, Train_Cost:0.393945, Valid_Cost:0.333160, Test_Cost:0.355313\n",
      "Epoch:9, Duration:27.467193, Train_Cost:0.348225, Valid_Cost:0.294290, Test_Cost:0.319694\n",
      "Best Epoch:9, Avg_Duration:29.645421, Train_Cost:0.348225, Valid_Cost:0.294290, Test_Cost:0.319694\n",
      "Building the model ...  done!!\n",
      "Constructing the optimizer ...  done!!\n",
      "Loading data ...  done!!\n",
      "Optimization start !!\n",
      "Epoch:0, Duration:34.505276, Train_Cost:0.842851, Valid_Cost:0.538629, Test_Cost:0.500797\n",
      "Epoch:1, Duration:34.397070, Train_Cost:0.736013, Valid_Cost:0.524202, Test_Cost:0.474580\n",
      "Epoch:2, Duration:34.113615, Train_Cost:0.683897, Valid_Cost:0.508676, Test_Cost:0.457492\n",
      "Epoch:3, Duration:34.350286, Train_Cost:0.642191, Valid_Cost:0.490636, Test_Cost:0.464648\n",
      "Epoch:4, Duration:34.314258, Train_Cost:0.604159, Valid_Cost:0.479211, Test_Cost:0.457573\n",
      "Epoch:5, Duration:36.211684, Train_Cost:0.566396, Valid_Cost:0.445140, Test_Cost:0.422025\n",
      "Epoch:6, Duration:35.418216, Train_Cost:0.512941, Valid_Cost:0.432378, Test_Cost:0.415234\n",
      "Epoch:7, Duration:35.558499, Train_Cost:0.463305, Valid_Cost:0.363561, Test_Cost:0.376463\n",
      "Epoch:8, Duration:35.700812, Train_Cost:0.402990, Valid_Cost:0.315527, Test_Cost:0.343350\n",
      "Epoch:9, Duration:34.827875, Train_Cost:0.347974, Valid_Cost:0.290731, Test_Cost:0.318507\n",
      "Best Epoch:9, Avg_Duration:34.939759, Train_Cost:0.347974, Valid_Cost:0.290731, Test_Cost:0.318507\n",
      "Building the model ...  done!!\n",
      "Constructing the optimizer ...  done!!\n",
      "Loading data ...  done!!\n",
      "Optimization start !!\n",
      "Epoch:0, Duration:14.397105, Train_Cost:0.653263, Valid_Cost:0.535590, Test_Cost:0.479149\n",
      "Epoch:1, Duration:14.700685, Train_Cost:0.556093, Valid_Cost:0.535055, Test_Cost:0.517727\n",
      "Epoch:2, Duration:15.539117, Train_Cost:0.536038, Valid_Cost:0.507618, Test_Cost:0.448520\n",
      "Epoch:3, Duration:16.508472, Train_Cost:0.520799, Valid_Cost:0.466266, Test_Cost:0.435599\n",
      "Epoch:4, Duration:15.229077, Train_Cost:0.496744, Valid_Cost:0.447287, Test_Cost:0.426743\n",
      "Epoch:5, Duration:15.192803, Train_Cost:0.462279, Valid_Cost:0.422415, Test_Cost:0.420756\n",
      "Epoch:6, Duration:14.762535, Train_Cost:0.413978, Valid_Cost:0.383411, Test_Cost:0.409984\n",
      "Epoch:7, Duration:14.955588, Train_Cost:0.368075, Valid_Cost:0.324826, Test_Cost:0.374640\n",
      "Epoch:8, Duration:15.114172, Train_Cost:0.321443, Valid_Cost:0.289090, Test_Cost:0.345154\n",
      "Epoch:9, Duration:15.610112, Train_Cost:0.287607, Valid_Cost:0.268672, Test_Cost:0.307778\n",
      "Best Epoch:9, Avg_Duration:15.200967, Train_Cost:0.287607, Valid_Cost:0.268672, Test_Cost:0.307778\n",
      "Building the model ...  done!!\n",
      "Constructing the optimizer ...  done!!\n",
      "Loading data ...  done!!\n",
      "Optimization start !!\n",
      "Epoch:0, Duration:15.672617, Train_Cost:0.628332, Valid_Cost:0.545737, Test_Cost:0.480797\n",
      "Epoch:1, Duration:17.100698, Train_Cost:0.574748, Valid_Cost:0.490227, Test_Cost:0.448628\n",
      "Epoch:2, Duration:15.704338, Train_Cost:0.530959, Valid_Cost:0.464716, Test_Cost:0.446001\n",
      "Epoch:3, Duration:14.738192, Train_Cost:0.502349, Valid_Cost:0.454892, Test_Cost:0.436653\n",
      "Epoch:4, Duration:15.636413, Train_Cost:0.466567, Valid_Cost:0.421313, Test_Cost:0.425833\n",
      "Epoch:5, Duration:15.224910, Train_Cost:0.434381, Valid_Cost:0.381392, Test_Cost:0.422335\n",
      "Epoch:6, Duration:15.150173, Train_Cost:0.393689, Valid_Cost:0.342919, Test_Cost:0.403825\n",
      "Epoch:7, Duration:15.208751, Train_Cost:0.343293, Valid_Cost:0.315509, Test_Cost:0.379627\n",
      "Epoch:8, Duration:15.089028, Train_Cost:0.301598, Valid_Cost:0.284788, Test_Cost:0.337113\n",
      "Epoch:9, Duration:15.075672, Train_Cost:0.280635, Valid_Cost:0.258230, Test_Cost:0.294938\n",
      "Best Epoch:9, Avg_Duration:15.460079, Train_Cost:0.280635, Valid_Cost:0.258230, Test_Cost:0.294938\n",
      "Building the model ...  done!!\n",
      "Constructing the optimizer ...  done!!\n",
      "Loading data ...  done!!\n",
      "Optimization start !!\n",
      "Epoch:0, Duration:15.694462, Train_Cost:0.630731, Valid_Cost:0.512021, Test_Cost:0.464771\n",
      "Epoch:1, Duration:15.793237, Train_Cost:0.570167, Valid_Cost:0.481091, Test_Cost:0.455408\n",
      "Epoch:2, Duration:15.640203, Train_Cost:0.523803, Valid_Cost:0.460389, Test_Cost:0.440759\n",
      "Epoch:3, Duration:15.581997, Train_Cost:0.493361, Valid_Cost:0.437605, Test_Cost:0.425858\n",
      "Epoch:4, Duration:15.631555, Train_Cost:0.449387, Valid_Cost:0.407571, Test_Cost:0.429460\n",
      "Epoch:5, Duration:15.621510, Train_Cost:0.413024, Valid_Cost:0.362369, Test_Cost:0.421112\n",
      "Epoch:6, Duration:15.601867, Train_Cost:0.374610, Valid_Cost:0.343951, Test_Cost:0.416775\n",
      "Epoch:7, Duration:15.630729, Train_Cost:0.346714, Valid_Cost:0.307205, Test_Cost:0.367287\n",
      "Epoch:8, Duration:15.767527, Train_Cost:0.306875, Valid_Cost:0.280722, Test_Cost:0.335301\n",
      "Epoch:9, Duration:15.592030, Train_Cost:0.289155, Valid_Cost:0.263654, Test_Cost:0.301382\n",
      "Best Epoch:9, Avg_Duration:15.655512, Train_Cost:0.289155, Valid_Cost:0.263654, Test_Cost:0.301382\n",
      "Building the model ...  done!!\n",
      "Constructing the optimizer ...  done!!\n",
      "Loading data ...  done!!\n",
      "Optimization start !!\n",
      "Epoch:0, Duration:15.983780, Train_Cost:0.637745, Valid_Cost:0.494548, Test_Cost:0.455723\n",
      "Epoch:1, Duration:15.930357, Train_Cost:0.565037, Valid_Cost:0.475709, Test_Cost:0.450951\n",
      "Epoch:2, Duration:15.874322, Train_Cost:0.525122, Valid_Cost:0.455592, Test_Cost:0.443013\n",
      "Epoch:3, Duration:15.781745, Train_Cost:0.490427, Valid_Cost:0.422900, Test_Cost:0.427207\n",
      "Epoch:4, Duration:16.105034, Train_Cost:0.468482, Valid_Cost:0.394165, Test_Cost:0.418039\n",
      "Epoch:5, Duration:15.894977, Train_Cost:0.407747, Valid_Cost:0.378656, Test_Cost:0.435989\n",
      "Epoch:6, Duration:15.880890, Train_Cost:0.372761, Valid_Cost:0.333760, Test_Cost:0.406404\n",
      "Epoch:7, Duration:15.858996, Train_Cost:0.341773, Valid_Cost:0.302047, Test_Cost:0.363840\n",
      "Epoch:8, Duration:15.893782, Train_Cost:0.303919, Valid_Cost:0.281483, Test_Cost:0.332915\n",
      "Epoch:9, Duration:15.808073, Train_Cost:0.284041, Valid_Cost:0.262713, Test_Cost:0.301559\n",
      "Best Epoch:9, Avg_Duration:15.901196, Train_Cost:0.284041, Valid_Cost:0.262713, Test_Cost:0.301559\n",
      "Building the model ...  done!!\n",
      "Constructing the optimizer ...  done!!\n",
      "Loading data ...  done!!\n",
      "Optimization start !!\n",
      "Epoch:0, Duration:17.902868, Train_Cost:0.758738, Valid_Cost:0.583743, Test_Cost:0.505625\n",
      "Epoch:1, Duration:18.010663, Train_Cost:0.686942, Valid_Cost:0.517397, Test_Cost:0.473687\n",
      "Epoch:2, Duration:17.907610, Train_Cost:0.643737, Valid_Cost:0.500632, Test_Cost:0.450115\n",
      "Epoch:3, Duration:17.686516, Train_Cost:0.588316, Valid_Cost:0.481419, Test_Cost:0.447237\n",
      "Epoch:4, Duration:17.755801, Train_Cost:0.562568, Valid_Cost:0.482005, Test_Cost:0.439863\n",
      "Epoch:5, Duration:17.618272, Train_Cost:0.531759, Valid_Cost:0.446161, Test_Cost:0.424141\n",
      "Epoch:6, Duration:17.734465, Train_Cost:0.487145, Valid_Cost:0.400518, Test_Cost:0.404924\n",
      "Epoch:7, Duration:17.743253, Train_Cost:0.425110, Valid_Cost:0.359961, Test_Cost:0.384319\n",
      "Epoch:8, Duration:17.742605, Train_Cost:0.365169, Valid_Cost:0.312353, Test_Cost:0.352638\n",
      "Epoch:9, Duration:17.906151, Train_Cost:0.329869, Valid_Cost:0.274292, Test_Cost:0.311518\n",
      "Best Epoch:9, Avg_Duration:17.800820, Train_Cost:0.329869, Valid_Cost:0.274292, Test_Cost:0.311518\n",
      "Building the model ...  done!!\n",
      "Constructing the optimizer ...  done!!\n",
      "Loading data ...  done!!\n",
      "Optimization start !!\n",
      "Epoch:0, Duration:22.091602, Train_Cost:0.898082, Valid_Cost:0.537230, Test_Cost:0.490522\n",
      "Epoch:1, Duration:21.878614, Train_Cost:0.795432, Valid_Cost:0.528429, Test_Cost:0.501249\n",
      "Epoch:2, Duration:21.797207, Train_Cost:0.729495, Valid_Cost:0.498195, Test_Cost:0.458147\n",
      "Epoch:3, Duration:21.807050, Train_Cost:0.685161, Valid_Cost:0.483549, Test_Cost:0.451497\n",
      "Epoch:4, Duration:21.723225, Train_Cost:0.633081, Valid_Cost:0.463754, Test_Cost:0.435149\n",
      "Epoch:5, Duration:21.664773, Train_Cost:0.585840, Valid_Cost:0.441709, Test_Cost:0.421630\n",
      "Epoch:6, Duration:21.494953, Train_Cost:0.531404, Valid_Cost:0.401573, Test_Cost:0.404402\n",
      "Epoch:7, Duration:21.990279, Train_Cost:0.468141, Valid_Cost:0.357693, Test_Cost:0.381828\n",
      "Epoch:8, Duration:21.881100, Train_Cost:0.409144, Valid_Cost:0.317877, Test_Cost:0.351943\n",
      "Epoch:9, Duration:21.675046, Train_Cost:0.364878, Valid_Cost:0.287690, Test_Cost:0.321496\n",
      "Best Epoch:9, Avg_Duration:21.800385, Train_Cost:0.364878, Valid_Cost:0.287690, Test_Cost:0.321496\n",
      "Building the model ...  done!!\n",
      "Constructing the optimizer ...  done!!\n",
      "Loading data ...  done!!\n",
      "Optimization start !!\n",
      "Epoch:0, Duration:25.688493, Train_Cost:1.043426, Valid_Cost:0.534811, Test_Cost:0.491481\n",
      "Epoch:1, Duration:25.096804, Train_Cost:0.910414, Valid_Cost:0.516535, Test_Cost:0.473480\n",
      "Epoch:2, Duration:25.374357, Train_Cost:0.825640, Valid_Cost:0.496864, Test_Cost:0.463932\n",
      "Epoch:3, Duration:24.795106, Train_Cost:0.761416, Valid_Cost:0.480154, Test_Cost:0.442844\n",
      "Epoch:4, Duration:23.651156, Train_Cost:0.694283, Valid_Cost:0.465027, Test_Cost:0.432377\n",
      "Epoch:5, Duration:23.633298, Train_Cost:0.633490, Valid_Cost:0.417900, Test_Cost:0.408023\n",
      "Epoch:6, Duration:23.659641, Train_Cost:0.558004, Valid_Cost:0.378076, Test_Cost:0.391743\n",
      "Epoch:7, Duration:23.768220, Train_Cost:0.477601, Valid_Cost:0.325819, Test_Cost:0.348429\n",
      "Epoch:8, Duration:23.706619, Train_Cost:0.416766, Valid_Cost:0.289272, Test_Cost:0.310711\n",
      "Epoch:9, Duration:23.874930, Train_Cost:0.374491, Valid_Cost:0.263917, Test_Cost:0.280266\n",
      "Best Epoch:9, Avg_Duration:24.324862, Train_Cost:0.374491, Valid_Cost:0.263917, Test_Cost:0.280266\n",
      "Building the model ...  done!!\n",
      "Constructing the optimizer ...  done!!\n",
      "Loading data ...  done!!\n",
      "Optimization start !!\n",
      "Epoch:0, Duration:27.730927, Train_Cost:1.159994, Valid_Cost:0.538258, Test_Cost:0.486584\n",
      "Epoch:1, Duration:27.698759, Train_Cost:1.012597, Valid_Cost:0.522554, Test_Cost:0.493560\n",
      "Epoch:2, Duration:27.599389, Train_Cost:0.910971, Valid_Cost:0.496031, Test_Cost:0.456583\n",
      "Epoch:3, Duration:27.623268, Train_Cost:0.839120, Valid_Cost:0.481338, Test_Cost:0.453977\n",
      "Epoch:4, Duration:27.508983, Train_Cost:0.762716, Valid_Cost:0.453210, Test_Cost:0.431889\n",
      "Epoch:5, Duration:27.474368, Train_Cost:0.686157, Valid_Cost:0.421499, Test_Cost:0.408395\n",
      "Epoch:6, Duration:27.568918, Train_Cost:0.598580, Valid_Cost:0.350614, Test_Cost:0.363704\n",
      "Epoch:7, Duration:27.711398, Train_Cost:0.499781, Valid_Cost:0.301263, Test_Cost:0.317177\n",
      "Epoch:8, Duration:27.866918, Train_Cost:0.439310, Valid_Cost:0.275217, Test_Cost:0.289410\n",
      "Epoch:9, Duration:27.844851, Train_Cost:0.397566, Valid_Cost:0.258972, Test_Cost:0.267799\n",
      "Best Epoch:9, Avg_Duration:27.662778, Train_Cost:0.397566, Valid_Cost:0.258972, Test_Cost:0.267799\n",
      "Building the model ...  done!!\n",
      "Constructing the optimizer ...  done!!\n",
      "Loading data ...  done!!\n",
      "Optimization start !!\n",
      "Epoch:0, Duration:13.761909, Train_Cost:0.542192, Valid_Cost:0.540258, Test_Cost:0.501674\n",
      "Epoch:1, Duration:13.766366, Train_Cost:0.487097, Valid_Cost:0.528868, Test_Cost:0.469652\n",
      "Epoch:2, Duration:13.828767, Train_Cost:0.479656, Valid_Cost:0.495506, Test_Cost:0.449569\n",
      "Epoch:3, Duration:13.741532, Train_Cost:0.458641, Valid_Cost:0.496387, Test_Cost:0.467012\n",
      "Epoch:4, Duration:13.784640, Train_Cost:0.448036, Valid_Cost:0.490158, Test_Cost:0.440309\n",
      "Epoch:5, Duration:13.816095, Train_Cost:0.443091, Valid_Cost:0.472657, Test_Cost:0.431891\n",
      "Epoch:6, Duration:13.776985, Train_Cost:0.426559, Valid_Cost:0.445612, Test_Cost:0.420833\n",
      "Epoch:7, Duration:13.799498, Train_Cost:0.406579, Valid_Cost:0.420677, Test_Cost:0.411224\n",
      "Epoch:8, Duration:13.767027, Train_Cost:0.376489, Valid_Cost:0.375369, Test_Cost:0.391695\n",
      "Epoch:9, Duration:13.799381, Train_Cost:0.335445, Valid_Cost:0.333490, Test_Cost:0.371185\n",
      "Best Epoch:9, Avg_Duration:13.784220, Train_Cost:0.335445, Valid_Cost:0.333490, Test_Cost:0.371185\n",
      "Building the model ...  done!!\n",
      "Constructing the optimizer ...  done!!\n",
      "Loading data ...  done!!\n",
      "Optimization start !!\n",
      "Epoch:0, Duration:13.770049, Train_Cost:1.234901, Valid_Cost:0.542693, Test_Cost:0.487022\n",
      "Epoch:1, Duration:13.801754, Train_Cost:0.629623, Valid_Cost:0.526139, Test_Cost:0.472685\n",
      "Epoch:2, Duration:13.816731, Train_Cost:0.509111, Valid_Cost:0.500532, Test_Cost:0.461986\n",
      "Epoch:3, Duration:13.828354, Train_Cost:0.464931, Valid_Cost:0.488822, Test_Cost:0.442804\n",
      "Epoch:4, Duration:13.770269, Train_Cost:0.451905, Valid_Cost:0.484244, Test_Cost:0.435985\n",
      "Epoch:5, Duration:13.800899, Train_Cost:0.442785, Valid_Cost:0.472041, Test_Cost:0.436947\n",
      "Epoch:6, Duration:13.833645, Train_Cost:0.434798, Valid_Cost:0.460202, Test_Cost:0.428140\n",
      "Epoch:7, Duration:13.788441, Train_Cost:0.415646, Valid_Cost:0.467797, Test_Cost:0.453765\n",
      "Epoch:8, Duration:13.793699, Train_Cost:0.403542, Valid_Cost:0.422573, Test_Cost:0.407587\n",
      "Epoch:9, Duration:13.806327, Train_Cost:0.371153, Valid_Cost:0.378997, Test_Cost:0.390480\n",
      "Best Epoch:9, Avg_Duration:13.801017, Train_Cost:0.371153, Valid_Cost:0.378997, Test_Cost:0.390480\n",
      "Building the model ...  done!!\n",
      "Constructing the optimizer ...  done!!\n",
      "Loading data ...  done!!\n",
      "Optimization start !!\n",
      "Epoch:0, Duration:13.810923, Train_Cost:3.330560, Valid_Cost:0.548748, Test_Cost:0.508232\n",
      "Epoch:1, Duration:13.806148, Train_Cost:0.527996, Valid_Cost:0.534151, Test_Cost:0.479838\n",
      "Epoch:2, Duration:13.819043, Train_Cost:0.502577, Valid_Cost:0.515711, Test_Cost:0.475595\n",
      "Epoch:3, Duration:13.742734, Train_Cost:0.489211, Valid_Cost:0.511877, Test_Cost:0.477591\n",
      "Epoch:4, Duration:13.827498, Train_Cost:0.479019, Valid_Cost:0.501164, Test_Cost:0.465270\n",
      "Epoch:5, Duration:13.693264, Train_Cost:0.467694, Valid_Cost:0.493167, Test_Cost:0.447228\n",
      "Epoch:6, Duration:13.757431, Train_Cost:0.465472, Valid_Cost:0.481835, Test_Cost:0.446904\n",
      "Epoch:7, Duration:13.706107, Train_Cost:0.459192, Valid_Cost:0.471128, Test_Cost:0.443832\n",
      "Epoch:8, Duration:13.759163, Train_Cost:0.442828, Valid_Cost:0.456394, Test_Cost:0.439163\n",
      "Epoch:9, Duration:13.914016, Train_Cost:0.422484, Valid_Cost:0.432991, Test_Cost:0.416102\n",
      "Best Epoch:9, Avg_Duration:13.783633, Train_Cost:0.422484, Valid_Cost:0.432991, Test_Cost:0.416102\n",
      "Building the model ...  done!!\n",
      "Constructing the optimizer ...  done!!\n",
      "Loading data ...  done!!\n",
      "Optimization start !!\n",
      "Epoch:0, Duration:13.744836, Train_Cost:0.804487, Valid_Cost:0.673293, Test_Cost:0.668648\n",
      "Epoch:1, Duration:13.975434, Train_Cost:0.760828, Valid_Cost:0.654179, Test_Cost:0.644498\n",
      "Epoch:2, Duration:13.837278, Train_Cost:0.723760, Valid_Cost:0.638353, Test_Cost:0.623875\n",
      "Epoch:3, Duration:13.820624, Train_Cost:0.692391, Valid_Cost:0.625657, Test_Cost:0.606701\n",
      "Epoch:4, Duration:13.906050, Train_Cost:0.666274, Valid_Cost:0.615827, Test_Cost:0.592805\n",
      "Epoch:5, Duration:13.817811, Train_Cost:0.644465, Valid_Cost:0.608154, Test_Cost:0.581371\n",
      "Epoch:6, Duration:13.863419, Train_Cost:0.626135, Valid_Cost:0.602250, Test_Cost:0.571993\n",
      "Epoch:7, Duration:13.780834, Train_Cost:0.611199, Valid_Cost:0.597920, Test_Cost:0.564560\n",
      "Epoch:8, Duration:13.816340, Train_Cost:0.598840, Valid_Cost:0.594776, Test_Cost:0.558632\n",
      "Epoch:9, Duration:13.788817, Train_Cost:0.588427, Valid_Cost:0.592511, Test_Cost:0.553832\n",
      "Best Epoch:9, Avg_Duration:13.835144, Train_Cost:0.588427, Valid_Cost:0.592511, Test_Cost:0.553832\n",
      "Building the model ...  done!!\n",
      "Constructing the optimizer ...  done!!\n",
      "Loading data ...  done!!\n",
      "Optimization start !!\n",
      "Epoch:0, Duration:13.815547, Train_Cost:0.693861, Valid_Cost:0.851727, Test_Cost:0.691625\n",
      "Epoch:1, Duration:13.829032, Train_Cost:0.607677, Valid_Cost:0.622674, Test_Cost:0.534081\n",
      "Epoch:2, Duration:13.777657, Train_Cost:0.576194, Valid_Cost:0.829497, Test_Cost:0.706290\n",
      "Epoch:3, Duration:13.825685, Train_Cost:0.556159, Valid_Cost:0.696171, Test_Cost:0.603791\n",
      "Epoch:4, Duration:13.773219, Train_Cost:0.536478, Valid_Cost:0.777954, Test_Cost:0.677112\n",
      "Epoch:5, Duration:13.860585, Train_Cost:0.510591, Valid_Cost:0.721370, Test_Cost:0.636723\n",
      "Epoch:6, Duration:13.770247, Train_Cost:0.494139, Valid_Cost:0.682136, Test_Cost:0.618132\n",
      "Epoch:7, Duration:13.762251, Train_Cost:0.464868, Valid_Cost:0.537539, Test_Cost:0.507210\n",
      "Epoch:8, Duration:13.832295, Train_Cost:0.439699, Valid_Cost:0.477621, Test_Cost:0.467221\n",
      "Epoch:9, Duration:13.835368, Train_Cost:0.404917, Valid_Cost:0.544734, Test_Cost:0.545013\n",
      "Best Epoch:8, Avg_Duration:13.808189, Train_Cost:0.439699, Valid_Cost:0.477621, Test_Cost:0.467221\n",
      "Building the model ...  done!!\n",
      "Constructing the optimizer ...  done!!\n",
      "Loading data ...  done!!\n",
      "Optimization start !!\n",
      "Epoch:0, Duration:13.726075, Train_Cost:0.673443, Valid_Cost:0.540193, Test_Cost:0.486308\n",
      "Epoch:1, Duration:13.792344, Train_Cost:0.583013, Valid_Cost:0.561020, Test_Cost:0.489577\n",
      "Epoch:2, Duration:13.738146, Train_Cost:0.558025, Valid_Cost:0.495881, Test_Cost:0.451844\n",
      "Epoch:3, Duration:13.731436, Train_Cost:0.532751, Valid_Cost:0.553205, Test_Cost:0.482260\n",
      "Epoch:4, Duration:13.968995, Train_Cost:0.508117, Valid_Cost:0.583449, Test_Cost:0.509110\n",
      "Epoch:5, Duration:13.833385, Train_Cost:0.502811, Valid_Cost:0.469076, Test_Cost:0.429305\n",
      "Epoch:6, Duration:13.776487, Train_Cost:0.475475, Valid_Cost:0.522807, Test_Cost:0.474342\n",
      "Epoch:7, Duration:13.778012, Train_Cost:0.461388, Valid_Cost:0.452899, Test_Cost:0.433415\n",
      "Epoch:8, Duration:13.717718, Train_Cost:0.423671, Valid_Cost:0.410439, Test_Cost:0.421827\n",
      "Epoch:9, Duration:13.702399, Train_Cost:0.381041, Valid_Cost:0.349475, Test_Cost:0.390368\n",
      "Best Epoch:9, Avg_Duration:13.776500, Train_Cost:0.381041, Valid_Cost:0.349475, Test_Cost:0.390368\n",
      "Building the model ...  done!!\n",
      "Constructing the optimizer ...  done!!\n",
      "Loading data ...  done!!\n",
      "Optimization start !!\n",
      "Epoch:0, Duration:13.795235, Train_Cost:0.645891, Valid_Cost:0.537591, Test_Cost:0.492714\n",
      "Epoch:1, Duration:13.783078, Train_Cost:0.577701, Valid_Cost:0.520888, Test_Cost:0.488445\n",
      "Epoch:2, Duration:13.780750, Train_Cost:0.551271, Valid_Cost:0.508901, Test_Cost:0.479248\n",
      "Epoch:3, Duration:13.741805, Train_Cost:0.523503, Valid_Cost:0.484909, Test_Cost:0.447395\n",
      "Epoch:4, Duration:13.740433, Train_Cost:0.494424, Valid_Cost:0.542007, Test_Cost:0.526039\n",
      "Epoch:5, Duration:13.743691, Train_Cost:0.480709, Valid_Cost:0.462989, Test_Cost:0.431961\n",
      "Epoch:6, Duration:13.969124, Train_Cost:0.459928, Valid_Cost:0.468252, Test_Cost:0.456330\n",
      "Epoch:7, Duration:13.769700, Train_Cost:0.431144, Valid_Cost:0.427874, Test_Cost:0.425408\n",
      "Epoch:8, Duration:13.693881, Train_Cost:0.378334, Valid_Cost:0.382374, Test_Cost:0.396067\n",
      "Epoch:9, Duration:13.723279, Train_Cost:0.339043, Valid_Cost:0.345695, Test_Cost:0.378864\n",
      "Best Epoch:9, Avg_Duration:13.774098, Train_Cost:0.339043, Valid_Cost:0.345695, Test_Cost:0.378864\n",
      "Building the model ...  done!!\n",
      "Constructing the optimizer ...  done!!\n",
      "Loading data ...  done!!\n",
      "Optimization start !!\n",
      "Epoch:0, Duration:33.956395, Train_Cost:0.827065, Valid_Cost:0.487553, Test_Cost:0.459646\n",
      "Epoch:1, Duration:33.933863, Train_Cost:0.720121, Valid_Cost:0.455395, Test_Cost:0.437320\n",
      "Epoch:2, Duration:33.845468, Train_Cost:0.636899, Valid_Cost:0.442540, Test_Cost:0.436078\n",
      "Epoch:3, Duration:33.827929, Train_Cost:0.583752, Valid_Cost:0.381422, Test_Cost:0.435471\n",
      "Epoch:4, Duration:34.076834, Train_Cost:0.526471, Valid_Cost:0.345174, Test_Cost:0.408590\n",
      "Epoch:5, Duration:33.673828, Train_Cost:0.456394, Valid_Cost:0.308720, Test_Cost:0.357079\n",
      "Epoch:6, Duration:33.905768, Train_Cost:0.395255, Valid_Cost:0.274156, Test_Cost:0.315047\n",
      "Epoch:7, Duration:33.923537, Train_Cost:0.350230, Valid_Cost:0.457232, Test_Cost:0.474673\n",
      "Epoch:8, Duration:33.701112, Train_Cost:0.332376, Valid_Cost:0.240510, Test_Cost:0.263462\n",
      "Epoch:9, Duration:33.745085, Train_Cost:0.300204, Valid_Cost:0.236464, Test_Cost:0.255817\n",
      "Best Epoch:9, Avg_Duration:33.858982, Train_Cost:0.300204, Valid_Cost:0.236464, Test_Cost:0.255817\n",
      "Building the model ...  done!!\n",
      "Constructing the optimizer ...  done!!\n",
      "Loading data ...  done!!\n",
      "Optimization start !!\n",
      "Epoch:0, Duration:32.043233, Train_Cost:0.581065, Valid_Cost:0.522228, Test_Cost:0.495816\n",
      "Epoch:1, Duration:31.968783, Train_Cost:0.502335, Valid_Cost:0.482675, Test_Cost:0.460425\n",
      "Epoch:2, Duration:32.214509, Train_Cost:0.483105, Valid_Cost:0.450837, Test_Cost:0.436861\n",
      "Epoch:3, Duration:32.001602, Train_Cost:0.444196, Valid_Cost:0.437489, Test_Cost:0.435023\n",
      "Epoch:4, Duration:31.514483, Train_Cost:0.413458, Valid_Cost:0.390826, Test_Cost:0.421827\n",
      "Epoch:5, Duration:31.944441, Train_Cost:0.380290, Valid_Cost:0.347805, Test_Cost:0.387664\n",
      "Epoch:6, Duration:31.992040, Train_Cost:0.331307, Valid_Cost:0.310694, Test_Cost:0.347615\n",
      "Epoch:7, Duration:32.174446, Train_Cost:0.300093, Valid_Cost:0.294396, Test_Cost:0.325805\n",
      "Epoch:8, Duration:31.929733, Train_Cost:0.280811, Valid_Cost:0.279636, Test_Cost:0.305314\n",
      "Epoch:9, Duration:31.930236, Train_Cost:0.271859, Valid_Cost:0.267113, Test_Cost:0.279857\n",
      "Best Epoch:9, Avg_Duration:31.971351, Train_Cost:0.271859, Valid_Cost:0.267113, Test_Cost:0.279857\n"
     ]
    }
   ],
   "source": [
    "import gram_hf\n",
    "\n",
    "seq_file = 'output2/output2.seqs'\n",
    "tree_file = 'output2/output2'\n",
    "label_file = 'output/output.hfs'\n",
    "inputDimSize = gram_hf.calculate_dimSize(seq_file)\n",
    "numClass = 1 # predicte a binary value (heart failure)\n",
    "numAncestors = gram_hf.get_rootCode(tree_file+'.level2.pk') - inputDimSize + 1\n",
    "\n",
    "def train_gram_hyperparam(embDimSize=200, hiddenDimSize=100,attentionDimSize=100,L2=0.001,dropoutRate=0.6, out_file=''):\n",
    "    gram_hf.train_GRAM(\n",
    "        seqFile=seq_file,\n",
    "        inputDimSize=inputDimSize,\n",
    "        treeFile=tree_file,\n",
    "        numAncestors=numAncestors,\n",
    "        labelFile=label_file,\n",
    "        numClass=numClass,\n",
    "        outFile=out_file,\n",
    "        embFile='',\n",
    "        embDimSize=embDimSize, \n",
    "        hiddenDimSize=hiddenDimSize,\n",
    "        attentionDimSize=attentionDimSize,\n",
    "        batchSize=100,\n",
    "        max_epochs=10,\n",
    "        L2=L2, \n",
    "        dropoutRate=dropoutRate,\n",
    "        logEps=1e-8,\n",
    "        train_ratio=0.7\n",
    "    )\n",
    "\n",
    "if __name__ == '__main__':\n",
    "    # default settting\n",
    "    train_gram_hyperparam(out_file='ipynb/default')\n",
    "\n",
    "    # change parameters\n",
    "    for embDimSize in [100,300,400,500]:\n",
    "        train_gram_hyperparam(embDimSize=embDimSize, out_file='ipynb/embDimSize'+str(embDimSize))\n",
    "    for hiddenDimSize in [200,300,400,500]:\n",
    "        train_gram_hyperparam(hiddenDimSize=hiddenDimSize, out_file='ipynb/hiddenDimSize'+str(hiddenDimSize))\n",
    "    for attentionDimSize in [200,300,400,500]:\n",
    "        train_gram_hyperparam(attentionDimSize=attentionDimSize, out_file='ipynb/attentionDimSize'+str(attentionDimSize))\n",
    "    for L2 in [0.0001,0.01, 0.1]:\n",
    "        train_gram_hyperparam(L2=L2, out_file='ipynb/L2'+str(L2))\n",
    "    for dropoutRate in [0.0,0.2,0.4,0.8]:\n",
    "        train_gram_hyperparam(dropoutRate=dropoutRate, out_file='ipynb/dropoutRate'+str(dropoutRate))\n",
    "\n",
    "    train_gram_hyperparam(embDimSize=500, hiddenDimSize=500, out_file='ipynb/embDimSize500_hiddenDimSize500')\n",
    "\n",
    "    # possibly best\n",
    "    train_gram_hyperparam(\n",
    "        embDimSize=400, \n",
    "        hiddenDimSize=400, \n",
    "        attentionDimSize=200,\n",
    "        L2=0.0001,\n",
    "        dropoutRate=0.8,\n",
    "        out_file='ipynb/best')"
   ]
  },
  {
   "cell_type": "code",
   "execution_count": 74,
   "metadata": {},
   "outputs": [
    {
     "name": "stdout",
     "output_type": "stream",
     "text": [
      "AUC: 0.8502251926433855 for default_0.7.test_set\n",
      "AUC: 0.8636981743482915 for embDimSize100_0.7.test_set\n",
      "AUC: 0.8859859772974955 for embDimSize300_0.7.test_set\n",
      "AUC: 0.8968935952704723 for embDimSize400_0.7.test_set\n",
      "AUC: 0.8841391082949975 for embDimSize500_0.7.test_set\n",
      "AUC: 0.9154539054287341 for hiddenDimSize200_0.7.test_set\n",
      "AUC: 0.912907830145917 for hiddenDimSize300_0.7.test_set\n",
      "AUC: 0.9216551418183221 for hiddenDimSize400_0.7.test_set\n",
      "AUC: 0.9143399974925017 for hiddenDimSize500_0.7.test_set\n",
      "AUC: 0.8895591624955395 for attentionDimSize200_0.7.test_set\n",
      "AUC: 0.8783863283472692 for attentionDimSize300_0.7.test_set\n",
      "AUC: 0.8600044363432957 for attentionDimSize400_0.7.test_set\n",
      "AUC: 0.8585192257616527 for attentionDimSize500_0.7.test_set\n",
      "AUC: 0.8701356942395047 for L20.0001_0.7.test_set\n",
      "AUC: 0.8618416611212375 for L20.01_0.7.test_set\n",
      "AUC: 0.8666251965010753 for L20.1_0.7.test_set\n",
      "AUC: 0.4837253710615398 for dropoutRate0.0_0.7.test_set\n",
      "AUC: 0.8684865318404074 for dropoutRate0.2_0.7.test_set\n",
      "AUC: 0.8715292846878645 for dropoutRate0.4_0.7.test_set\n",
      "AUC: 0.878453837919162 for dropoutRate0.8_0.7.test_set\n",
      "AUC: 0.9259709323071879 for embDimSize500_hiddenDimSize500_0.7.test_set\n",
      "AUC: 0.9151115354569916 for best_0.7.test_set\n"
     ]
    }
   ],
   "source": [
    "files = [\n",
    "    ('default_0.7_9.test_probs', 'default_0.7.test_set'),\n",
    "    \n",
    "    ('embDimSize100_0.7_9.test_probs', 'embDimSize100_0.7.test_set'),\n",
    "    ('embDimSize300_0.7_8.test_probs', 'embDimSize300_0.7.test_set'),\n",
    "    ('embDimSize400_0.7_9.test_probs', 'embDimSize400_0.7.test_set'),\n",
    "    ('embDimSize500_0.7_9.test_probs', 'embDimSize500_0.7.test_set'),\n",
    "    \n",
    "    ('hiddenDimSize200_0.7_9.test_probs', 'hiddenDimSize200_0.7.test_set'),\n",
    "    ('hiddenDimSize300_0.7_9.test_probs', 'hiddenDimSize300_0.7.test_set'),\n",
    "    ('hiddenDimSize400_0.7_9.test_probs', 'hiddenDimSize400_0.7.test_set'),\n",
    "    ('hiddenDimSize500_0.7_9.test_probs', 'hiddenDimSize500_0.7.test_set'),\n",
    "    \n",
    "    ('attentionDimSize200_0.7_9.test_probs', 'attentionDimSize200_0.7.test_set'),\n",
    "    ('attentionDimSize300_0.7_9.test_probs', 'attentionDimSize300_0.7.test_set'),\n",
    "    ('attentionDimSize400_0.7_9.test_probs', 'attentionDimSize400_0.7.test_set'),\n",
    "    ('attentionDimSize500_0.7_9.test_probs', 'attentionDimSize500_0.7.test_set'),\n",
    "    \n",
    "    ('L20.0001_0.7_9.test_probs', 'L20.0001_0.7.test_set'),\n",
    "    ('L20.01_0.7_9.test_probs', 'L20.01_0.7.test_set'),\n",
    "    ('L20.1_0.7_9.test_probs', 'L20.1_0.7.test_set'),\n",
    "\n",
    "    ('dropoutRate0.0_0.7_9.test_probs', 'dropoutRate0.0_0.7.test_set'),\n",
    "    ('dropoutRate0.2_0.7_8.test_probs', 'dropoutRate0.2_0.7.test_set'),\n",
    "    ('dropoutRate0.4_0.7_9.test_probs', 'dropoutRate0.4_0.7.test_set'),\n",
    "    ('dropoutRate0.8_0.7_9.test_probs', 'dropoutRate0.8_0.7.test_set'),\n",
    "\n",
    "    # possibly best\n",
    "    ('embDimSize500_hiddenDimSize500_0.7_9.test_probs', 'embDimSize500_hiddenDimSize500_0.7.test_set'),\n",
    "    ('best_0.7_9.test_probs', 'best_0.7.test_set'),\n",
    "]\n",
    "\n",
    "for log, test_set in files:\n",
    "    with open('./ipynb/'+test_set, 'rb') as f:\n",
    "        test_data = pickle.load(f)\n",
    "    with open('./ipynb/'+log, 'rb') as f:\n",
    "        y_pred_probs = pickle.load(f)\n",
    "    \n",
    "    y_true_labels = test_data[1]\n",
    "    for i, y in enumerate(y_true_labels):\n",
    "        y_true_labels[i] = y > 0.5\n",
    "    auc = roc_auc_score(y_true_labels, y_pred_probs)\n",
    "\n",
    "    print(\"AUC: \" + str(auc) +\" for \" + test_set)"
   ]
  },
  {
   "attachments": {},
   "cell_type": "markdown",
   "metadata": {},
   "source": [
    "## Summary of the key results"
   ]
  },
  {
   "attachments": {},
   "cell_type": "markdown",
   "metadata": {},
   "source": [
    "GRAM underperformed RNN at the 10% and 20% ratio of used trainig dataset, which contradicts the statement by the paper, i.e., GRAM overperformed RNN even with small training dataset."
   ]
  },
  {
   "attachments": {},
   "cell_type": "markdown",
   "metadata": {},
   "source": [
    "<img src=\"https://github.com/chadyuu/dlh-gram/blob/master/img/auc.png?raw=true\" />"
   ]
  },
  {
   "attachments": {},
   "cell_type": "markdown",
   "metadata": {},
   "source": [
    "The AUC is a little higher with no-attention  which seems counter-intuitive. The main contributor to GRAM's high performance appears to be from using medical ontologies and not the attention mechanism."
   ]
  },
  {
   "attachments": {},
   "cell_type": "markdown",
   "metadata": {},
   "source": [
    "<img src=\"https://github.com/chadyuu/dlh-gram/blob/master/img/wo_attention.png?raw=true\" />"
   ]
  },
  {
   "cell_type": "markdown",
   "metadata": {},
   "source": [
    "Below are the reulsts for each hyperparemeter setting."
   ]
  },
  {
   "attachments": {},
   "cell_type": "markdown",
   "metadata": {},
   "source": [
    "<img src=\"https://github.com/chadyuu/dlh-gram/blob/master/img/hyper1.png?raw=true\" />"
   ]
  },
  {
   "attachments": {},
   "cell_type": "markdown",
   "metadata": {},
   "source": [
    "<img src=\"https://github.com/chadyuu/dlh-gram/blob/master/img/hyper2.png?raw=true\" />"
   ]
  },
  {
   "attachments": {},
   "cell_type": "markdown",
   "metadata": {},
   "source": [
    "## References\n",
    "\n",
    "- Edward Choi, Mohammad Taha Bahadori, Le Song, Walter F Stewart, and Jimeng Sun. 2017. Gram: graph-based attention model for healthcare represen-tation learning. In Proceedings of the 23rd ACM SIGKDD international conference on knowledge discovery and data mining, pages "
   ]
  }
 ],
 "metadata": {
  "kernelspec": {
   "display_name": "Python 3",
   "language": "python",
   "name": "python3"
  },
  "language_info": {
   "codemirror_mode": {
    "name": "ipython",
    "version": 2
   },
   "file_extension": ".py",
   "mimetype": "text/x-python",
   "name": "python",
   "nbconvert_exporter": "python",
   "pygments_lexer": "ipython2",
   "version": "2.7.13"
  },
  "orig_nbformat": 4
 },
 "nbformat": 4,
 "nbformat_minor": 2
}
